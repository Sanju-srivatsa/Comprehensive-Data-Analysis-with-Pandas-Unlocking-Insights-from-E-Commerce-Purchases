{
 "cells": [
  {
   "cell_type": "markdown",
   "id": "c39460f1",
   "metadata": {
    "papermill": {
     "duration": 0.013257,
     "end_time": "2024-12-20T19:29:58.963284",
     "exception": false,
     "start_time": "2024-12-20T19:29:58.950027",
     "status": "completed"
    },
    "tags": []
   },
   "source": [
    "# Comprehensive Data Analysis with Pandas: Exploring E-Commerce Purchases for Actionable Insights\n",
    "## **Introduction to Pandas**\n",
    "\n",
    "#### **What is Pandas?**\n",
    "Pandas is an open-source Python library designed for data manipulation and analysis. It is built on top of NumPy and provides easy-to-use data structures and operations for working with structured data. Pandas is a staple tool for data analysis and is commonly used in fields like data science, machine learning, and financial analysis.\n",
    "\n",
    "### **Key Features of Pandas**\n",
    "1. **Flexible Data Structures**: Supports `Series` (1D) and `DataFrame` (2D) for organizing and analyzing data.\n",
    "2. **Data Handling**: Easily handle missing data, duplicates, and categorical data.\n",
    "3. **Data Operations**: Powerful indexing, slicing, grouping, and aggregation methods.\n",
    "4. **Integration**: Works seamlessly with other Python libraries like NumPy, Matplotlib, and Scikit-learn.\n",
    "5. **File I/O**: Simplifies reading and writing data from/to various formats (CSV, Excel, SQL, JSON, etc.).\n",
    "6. **Time Series Analysis**: Provides support for handling and analyzing time-stamped data.\n",
    "\n",
    "\n",
    "### **Why Use Pandas?**\n",
    "- **Efficiency**: Optimized for performance and handles large datasets with ease.\n",
    "- **Ease of Use**: Offers intuitive methods for common data manipulation tasks.\n",
    "- **Comprehensive Functionality**: Supports advanced data operations like merging, joining, reshaping, and pivoting.\n",
    "- **Visualization**: Allows direct integration with plotting libraries to generate insightful visualizations.\n",
    "\n",
    "\n",
    "### **Core Data Structures in Pandas**\n",
    "1. **Series**: A one-dimensional array-like object with labels (index) for each element.\n",
    "   - Example: Time series data or a single column from a table.\n",
    "2. **DataFrame**: A two-dimensional table-like data structure with labeled rows and columns.\n",
    "   - Example: Tabular data like an Excel spreadsheet or SQL table.\n",
    "\n",
    "\n",
    "### **Key Concepts in Pandas**\n",
    "1. **Indexing and Selection**:\n",
    "   - Accessing and modifying specific rows, columns, or subsets of data.\n",
    "2. **Data Cleaning**:\n",
    "   - Handling missing values, duplicates, and ensuring consistent data types.\n",
    "3. **Data Transformation**:\n",
    "   - Filtering, mapping, grouping, and aggregating data.\n",
    "4. **Data Merging and Joining**:\n",
    "   - Combining multiple datasets for analysis.\n",
    "5. **Visualization Integration**:\n",
    "   - Using pandas with libraries like Matplotlib and Seaborn to create plots.\n",
    "6. **Time Series Analysis**:\n",
    "   - Working with dates, times, and time-indexed data.\n",
    "\n",
    "\n",
    "### **Advantages of Pandas**\n",
    "- Reduces the complexity of data processing tasks.\n",
    "- Easy to learn for beginners and highly customizable for advanced users.\n",
    "- Extensive documentation and a large community for support."
   ]
  },
  {
   "cell_type": "markdown",
   "id": "49655cd7",
   "metadata": {
    "papermill": {
     "duration": 0.011817,
     "end_time": "2024-12-20T19:29:58.987961",
     "exception": false,
     "start_time": "2024-12-20T19:29:58.976144",
     "status": "completed"
    },
    "tags": []
   },
   "source": [
    "### **Exploring the E-Commerce Purchases Dataset Using Pandas**\n",
    "\n",
    "Now that we have a foundational understanding of **pandas** and its key concepts, let's dive into a practical implementation by exploring the **E-Commerce Purchases dataset**. This project will not only demonstrate the power of pandas but also cover essential topics that are crucial for any data analysis task.\n",
    "\n",
    "### **Objective**\n",
    "The goal is to explore the dataset comprehensively while applying various pandas concepts. Through this process, we aim to:\n",
    "1. Showcase how pandas handles real-world datasets.\n",
    "2. Demonstrate practical use cases of pandas operations.\n",
    "3. Build insights from data using efficient manipulation and analysis techniques.\n",
    "\n",
    "### **Topics We Will Cover**\n",
    "1. **Loading and Exploring Data**:\n",
    "   - Understand the structure and format of the dataset.\n",
    "   - Display top and bottom rows, check for missing values, and assess data types.\n",
    "\n",
    "2. **Data Cleaning**:\n",
    "   - Handle missing values, duplicates, and inconsistencies.\n",
    "\n",
    "3. **Data Selection and Indexing**:\n",
    "   - Access specific rows, columns, or subsets of the data.\n",
    "\n",
    "4. **Data Aggregation and Grouping**:\n",
    "   - Perform grouping, filtering, and aggregation to extract meaningful patterns.\n",
    "\n",
    "5. **Advanced Operations**:\n",
    "   - Apply string operations, time-based manipulations, and conditional filtering.\n",
    "\n",
    "6. **Visualization with Pandas**:\n",
    "   - Create basic visualizations directly from pandas for better data understanding.\n",
    "\n",
    "7. **File I/O**:\n",
    "   - Read data from files and save processed data back to files.\n",
    "\n",
    "8. **Insight Generation**:\n",
    "   - Answer specific business questions (e.g., top customers, trends in purchases).\n",
    "\n",
    "\n",
    "\n",
    "### **Plan of Action**\n",
    "We will proceed step-by-step, applying each pandas concept to answer specific questions or perform tasks related to the dataset. With each step, we will include:\n",
    "- A clear explanation of the concept.\n",
    "- Practical implementation.\n",
    "- Insights derived from the operation.\n",
    "\n",
    "\n",
    "This structured walkthrough will ensure we cover all relevant pandas functionalities while gaining actionable insights from the **E-Commerce Purchases dataset**. Let's start by loading the dataset and exploring its structure! Let me know when you're ready to proceed!"
   ]
  },
  {
   "cell_type": "markdown",
   "id": "80a6617c",
   "metadata": {
    "papermill": {
     "duration": 0.011846,
     "end_time": "2024-12-20T19:29:59.011983",
     "exception": false,
     "start_time": "2024-12-20T19:29:59.000137",
     "status": "completed"
    },
    "tags": []
   },
   "source": [
    "### **Step 1: Load the Dataset**"
   ]
  },
  {
   "cell_type": "code",
   "execution_count": 1,
   "id": "b854d397",
   "metadata": {
    "execution": {
     "iopub.execute_input": "2024-12-20T19:29:59.037892Z",
     "iopub.status.busy": "2024-12-20T19:29:59.037544Z",
     "iopub.status.idle": "2024-12-20T19:29:59.525829Z",
     "shell.execute_reply": "2024-12-20T19:29:59.524595Z"
    },
    "papermill": {
     "duration": 0.503533,
     "end_time": "2024-12-20T19:29:59.527593",
     "exception": false,
     "start_time": "2024-12-20T19:29:59.024060",
     "status": "completed"
    },
    "tags": []
   },
   "outputs": [
    {
     "name": "stdout",
     "output_type": "stream",
     "text": [
      "First 5 rows of the dataset:\n",
      "                                             Address    Lot AM or PM  \\\n",
      "0  16629 Pace Camp Apt. 448\\nAlexisborough, NE 77...  46 in       PM   \n",
      "1  9374 Jasmine Spurs Suite 508\\nSouth John, TN 8...  28 rn       PM   \n",
      "2                   Unit 0065 Box 5052\\nDPO AP 27450  94 vE       PM   \n",
      "3              7780 Julia Fords\\nNew Stacy, WA 45798  36 vm       PM   \n",
      "4  23012 Munoz Drive Suite 337\\nNew Cynthia, TX 5...  20 IE       AM   \n",
      "\n",
      "                                        Browser Info  \\\n",
      "0  Opera/9.56.(X11; Linux x86_64; sl-SI) Presto/2...   \n",
      "1  Opera/8.93.(Windows 98; Win 9x 4.90; en-US) Pr...   \n",
      "2  Mozilla/5.0 (compatible; MSIE 9.0; Windows NT ...   \n",
      "3  Mozilla/5.0 (Macintosh; Intel Mac OS X 10_8_0 ...   \n",
      "4  Opera/9.58.(X11; Linux x86_64; it-IT) Presto/2...   \n",
      "\n",
      "                           Company       Credit Card CC Exp Date  \\\n",
      "0                  Martinez-Herman  6011929061123406       02/20   \n",
      "1  Fletcher, Richards and Whitaker  3337758169645356       11/18   \n",
      "2       Simpson, Williams and Pham      675957666125       08/19   \n",
      "3  Williams, Marshall and Buchanan  6011578504430710       02/24   \n",
      "4        Brown, Watson and Andrews  6011456623207998       10/25   \n",
      "\n",
      "   CC Security Code                  CC Provider  \\\n",
      "0               900                 JCB 16 digit   \n",
      "1               561                   Mastercard   \n",
      "2               699                 JCB 16 digit   \n",
      "3               384                     Discover   \n",
      "4               678  Diners Club / Carte Blanche   \n",
      "\n",
      "                            Email                                     Job  \\\n",
      "0               pdunlap@yahoo.com  Scientist, product/process development   \n",
      "1              anthony41@reed.com                       Drilling engineer   \n",
      "2  amymiller@morales-harrison.com                Customer service manager   \n",
      "3     brent16@olson-robinson.info                       Drilling engineer   \n",
      "4     christopherwright@gmail.com                             Fine artist   \n",
      "\n",
      "        IP Address Language  Purchase Price  \n",
      "0  149.146.147.205       el           98.14  \n",
      "1     15.160.41.51       fr           70.73  \n",
      "2   132.207.160.22       de            0.95  \n",
      "3     30.250.74.19       es           78.04  \n",
      "4     24.140.33.94       es           77.82  \n"
     ]
    }
   ],
   "source": [
    "# Importing pandas\n",
    "import pandas as pd\n",
    "\n",
    "# Load the dataset\n",
    "file_path = \"/kaggle/input/ecommerce-purchases/Ecommerce Purchases\"  \n",
    "df = pd.read_csv(file_path)\n",
    "\n",
    "# Display the first 5 rows to understand the structure of the dataset\n",
    "print(\"First 5 rows of the dataset:\")\n",
    "print(df.head())"
   ]
  },
  {
   "cell_type": "markdown",
   "id": "55395506",
   "metadata": {
    "papermill": {
     "duration": 0.012182,
     "end_time": "2024-12-20T19:29:59.552334",
     "exception": false,
     "start_time": "2024-12-20T19:29:59.540152",
     "status": "completed"
    },
    "tags": []
   },
   "source": [
    "### **Step 2: Basic Information about the Dataset**"
   ]
  },
  {
   "cell_type": "code",
   "execution_count": 2,
   "id": "7d954d6d",
   "metadata": {
    "execution": {
     "iopub.execute_input": "2024-12-20T19:29:59.578176Z",
     "iopub.status.busy": "2024-12-20T19:29:59.577802Z",
     "iopub.status.idle": "2024-12-20T19:29:59.609413Z",
     "shell.execute_reply": "2024-12-20T19:29:59.608110Z"
    },
    "papermill": {
     "duration": 0.046475,
     "end_time": "2024-12-20T19:29:59.611053",
     "exception": false,
     "start_time": "2024-12-20T19:29:59.564578",
     "status": "completed"
    },
    "tags": []
   },
   "outputs": [
    {
     "name": "stdout",
     "output_type": "stream",
     "text": [
      "\n",
      "Dataset Information:\n",
      "<class 'pandas.core.frame.DataFrame'>\n",
      "RangeIndex: 10000 entries, 0 to 9999\n",
      "Data columns (total 14 columns):\n",
      " #   Column            Non-Null Count  Dtype  \n",
      "---  ------            --------------  -----  \n",
      " 0   Address           10000 non-null  object \n",
      " 1   Lot               10000 non-null  object \n",
      " 2   AM or PM          10000 non-null  object \n",
      " 3   Browser Info      10000 non-null  object \n",
      " 4   Company           10000 non-null  object \n",
      " 5   Credit Card       10000 non-null  int64  \n",
      " 6   CC Exp Date       10000 non-null  object \n",
      " 7   CC Security Code  10000 non-null  int64  \n",
      " 8   CC Provider       10000 non-null  object \n",
      " 9   Email             10000 non-null  object \n",
      " 10  Job               10000 non-null  object \n",
      " 11  IP Address        10000 non-null  object \n",
      " 12  Language          10000 non-null  object \n",
      " 13  Purchase Price    10000 non-null  float64\n",
      "dtypes: float64(1), int64(2), object(11)\n",
      "memory usage: 1.1+ MB\n",
      "None\n",
      "\n",
      "Number of Rows and Columns:\n",
      "Rows: 10000, Columns: 14\n",
      "\n",
      "Column Names:\n",
      "Index(['Address', 'Lot', 'AM or PM', 'Browser Info', 'Company', 'Credit Card',\n",
      "       'CC Exp Date', 'CC Security Code', 'CC Provider', 'Email', 'Job',\n",
      "       'IP Address', 'Language', 'Purchase Price'],\n",
      "      dtype='object')\n"
     ]
    }
   ],
   "source": [
    "# Check the structure of the dataset\n",
    "print(\"\\nDataset Information:\")\n",
    "print(df.info())\n",
    "\n",
    "# Check the shape of the dataset\n",
    "print(\"\\nNumber of Rows and Columns:\")\n",
    "print(f\"Rows: {df.shape[0]}, Columns: {df.shape[1]}\")\n",
    "\n",
    "# Display the column names\n",
    "print(\"\\nColumn Names:\")\n",
    "print(df.columns)"
   ]
  },
  {
   "cell_type": "markdown",
   "id": "8de18fa5",
   "metadata": {
    "papermill": {
     "duration": 0.012233,
     "end_time": "2024-12-20T19:29:59.636064",
     "exception": false,
     "start_time": "2024-12-20T19:29:59.623831",
     "status": "completed"
    },
    "tags": []
   },
   "source": [
    "### **Step 3: Display Top and Bottom Rows**"
   ]
  },
  {
   "cell_type": "code",
   "execution_count": 3,
   "id": "27043040",
   "metadata": {
    "execution": {
     "iopub.execute_input": "2024-12-20T19:29:59.662629Z",
     "iopub.status.busy": "2024-12-20T19:29:59.662300Z",
     "iopub.status.idle": "2024-12-20T19:29:59.678541Z",
     "shell.execute_reply": "2024-12-20T19:29:59.677100Z"
    },
    "papermill": {
     "duration": 0.03143,
     "end_time": "2024-12-20T19:29:59.680434",
     "exception": false,
     "start_time": "2024-12-20T19:29:59.649004",
     "status": "completed"
    },
    "tags": []
   },
   "outputs": [
    {
     "name": "stdout",
     "output_type": "stream",
     "text": [
      "\n",
      "Top 10 Rows:\n",
      "                                             Address    Lot AM or PM  \\\n",
      "0  16629 Pace Camp Apt. 448\\nAlexisborough, NE 77...  46 in       PM   \n",
      "1  9374 Jasmine Spurs Suite 508\\nSouth John, TN 8...  28 rn       PM   \n",
      "2                   Unit 0065 Box 5052\\nDPO AP 27450  94 vE       PM   \n",
      "3              7780 Julia Fords\\nNew Stacy, WA 45798  36 vm       PM   \n",
      "4  23012 Munoz Drive Suite 337\\nNew Cynthia, TX 5...  20 IE       AM   \n",
      "5  7502 Powell Mission Apt. 768\\nTravisland, VA 3...  21 XT       PM   \n",
      "6     93971 Conway Causeway\\nAndersonburgh, AZ 75107  96 Xt       AM   \n",
      "7  260 Rachel Plains Suite 366\\nCastroberg, WV 24...  96 pG       PM   \n",
      "8            2129 Dylan Burg\\nNew Michelle, ME 28650  45 JN       PM   \n",
      "9    3795 Dawson Extensions\\nLake Tinafort, ID 88739  15 Ug       AM   \n",
      "\n",
      "                                        Browser Info  \\\n",
      "0  Opera/9.56.(X11; Linux x86_64; sl-SI) Presto/2...   \n",
      "1  Opera/8.93.(Windows 98; Win 9x 4.90; en-US) Pr...   \n",
      "2  Mozilla/5.0 (compatible; MSIE 9.0; Windows NT ...   \n",
      "3  Mozilla/5.0 (Macintosh; Intel Mac OS X 10_8_0 ...   \n",
      "4  Opera/9.58.(X11; Linux x86_64; it-IT) Presto/2...   \n",
      "5  Mozilla/5.0 (Macintosh; U; PPC Mac OS X 10_8_5...   \n",
      "6  Mozilla/5.0 (compatible; MSIE 7.0; Windows NT ...   \n",
      "7  Mozilla/5.0 (X11; Linux i686) AppleWebKit/5350...   \n",
      "8  Mozilla/5.0 (Macintosh; U; Intel Mac OS X 10_7...   \n",
      "9  Mozilla/5.0 (X11; Linux i686; rv:1.9.7.20) Gec...   \n",
      "\n",
      "                           Company       Credit Card CC Exp Date  \\\n",
      "0                  Martinez-Herman  6011929061123406       02/20   \n",
      "1  Fletcher, Richards and Whitaker  3337758169645356       11/18   \n",
      "2       Simpson, Williams and Pham      675957666125       08/19   \n",
      "3  Williams, Marshall and Buchanan  6011578504430710       02/24   \n",
      "4        Brown, Watson and Andrews  6011456623207998       10/25   \n",
      "5                   Silva-Anderson    30246185196287       07/25   \n",
      "6                  Gibson and Sons  6011398782655569       07/24   \n",
      "7                 Marshall-Collins      561252141909       06/25   \n",
      "8                Galloway and Sons   180041795790001       04/24   \n",
      "9     Rivera, Buchanan and Ramirez     4396283918371       01/17   \n",
      "\n",
      "   CC Security Code                  CC Provider  \\\n",
      "0               900                 JCB 16 digit   \n",
      "1               561                   Mastercard   \n",
      "2               699                 JCB 16 digit   \n",
      "3               384                     Discover   \n",
      "4               678  Diners Club / Carte Blanche   \n",
      "5              7169                     Discover   \n",
      "6               714                VISA 16 digit   \n",
      "7               256                VISA 13 digit   \n",
      "8               899                 JCB 16 digit   \n",
      "9               931             American Express   \n",
      "\n",
      "                            Email                                     Job  \\\n",
      "0               pdunlap@yahoo.com  Scientist, product/process development   \n",
      "1              anthony41@reed.com                       Drilling engineer   \n",
      "2  amymiller@morales-harrison.com                Customer service manager   \n",
      "3     brent16@olson-robinson.info                       Drilling engineer   \n",
      "4     christopherwright@gmail.com                             Fine artist   \n",
      "5               ynguyen@gmail.com                       Fish farm manager   \n",
      "6              olivia04@yahoo.com                                  Dancer   \n",
      "7            phillip48@parks.info                         Event organiser   \n",
      "8            kdavis@rasmussen.com                       Financial manager   \n",
      "9        qcoleman@hunt-huerta.com                      Forensic scientist   \n",
      "\n",
      "        IP Address Language  Purchase Price  \n",
      "0  149.146.147.205       el           98.14  \n",
      "1     15.160.41.51       fr           70.73  \n",
      "2   132.207.160.22       de            0.95  \n",
      "3     30.250.74.19       es           78.04  \n",
      "4     24.140.33.94       es           77.82  \n",
      "5    55.96.152.147       ru           25.15  \n",
      "6   127.252.144.18       de           88.56  \n",
      "7   224.247.97.150       pt           44.25  \n",
      "8  146.234.201.229       ru           59.54  \n",
      "9    236.198.199.8       zh           95.63  \n",
      "\n",
      "Bottom 10 Rows:\n",
      "                                                Address    Lot AM or PM  \\\n",
      "9990  75731 Molly Springs\\nWest Danielle, VT 96934-5102  93 ty       PM   \n",
      "9991              PSC 8165, Box 8498\\nAPO AP 60327-0346  50 dA       AM   \n",
      "9992  885 Allen Mountains Apt. 230\\nWallhaven, LA 16995  40 vH       PM   \n",
      "9993  7555 Larson Locks Suite 229\\nEllisburgh, MA 34...  72 jg       PM   \n",
      "9994       6276 Rojas Hollow\\nLake Louis, WY 56410-7837  93 Ex       PM   \n",
      "9995      966 Castaneda Locks\\nWest Juliafurt, CO 96415  92 XI       PM   \n",
      "9996  832 Curtis Dam Suite 785\\nNorth Edwardburgh, T...  41 JY       AM   \n",
      "9997              Unit 4434 Box 6343\\nDPO AE 28026-0283  74 Zh       AM   \n",
      "9998               0096 English Rest\\nRoystad, IA 12457  74 cL       PM   \n",
      "9999     40674 Barrett Stravenue\\nGrimesville, WI 79682  64 Hr       AM   \n",
      "\n",
      "                                           Browser Info  \\\n",
      "9990  Mozilla/5.0 (Macintosh; Intel Mac OS X 10_7_4;...   \n",
      "9991  Mozilla/5.0 (compatible; MSIE 8.0; Windows NT ...   \n",
      "9992  Mozilla/5.0 (Macintosh; PPC Mac OS X 10_6_5) A...   \n",
      "9993  Mozilla/5.0 (Macintosh; U; Intel Mac OS X 10_8...   \n",
      "9994  Opera/9.68.(X11; Linux x86_64; sl-SI) Presto/2...   \n",
      "9995  Mozilla/5.0 (Windows NT 5.1) AppleWebKit/5352 ...   \n",
      "9996  Mozilla/5.0 (compatible; MSIE 9.0; Windows NT ...   \n",
      "9997  Mozilla/5.0 (Macintosh; U; Intel Mac OS X 10_7...   \n",
      "9998  Mozilla/5.0 (Macintosh; Intel Mac OS X 10_8_8;...   \n",
      "9999  Mozilla/5.0 (X11; Linux i686; rv:1.9.5.20) Gec...   \n",
      "\n",
      "                         Company       Credit Card CC Exp Date  \\\n",
      "9990  Pace, Vazquez and Richards   869968197049750       04/24   \n",
      "9991                  Snyder Inc  4221582137197481       02/24   \n",
      "9992                   Wells Ltd  4664825258997302       10/20   \n",
      "9993              Colon and Sons    30025560104631       10/25   \n",
      "9994                Ritter-Smith  3112186784121077       01/25   \n",
      "9995               Randall-Sloan   342945015358701       03/22   \n",
      "9996    Hale, Collins and Wilson   210033169205009       07/25   \n",
      "9997                Anderson Ltd  6011539787356311       05/21   \n",
      "9998                    Cook Inc   180003348082930       11/17   \n",
      "9999                  Greene Inc  4139972901927273       02/19   \n",
      "\n",
      "      CC Security Code       CC Provider                        Email  \\\n",
      "9990               877      JCB 15 digit  andersonmichael@sherman.biz   \n",
      "9991               969           Voyager           kking@wise-liu.com   \n",
      "9992               431          Discover            bberry@wright.net   \n",
      "9993               629           Maestro    chelseawilliams@lopez.biz   \n",
      "9994              1823           Maestro           iroberts@gmail.com   \n",
      "9995               838      JCB 15 digit       iscott@wade-garner.com   \n",
      "9996               207      JCB 16 digit           mary85@hotmail.com   \n",
      "9997                 1     VISA 16 digit            tyler16@gmail.com   \n",
      "9998               987  American Express      elizabethmoore@reid.net   \n",
      "9999               302      JCB 15 digit        rachelford@vaughn.com   \n",
      "\n",
      "                               Job       IP Address Language  Purchase Price  \n",
      "9990           Early years teacher     54.170.3.185       ru           18.35  \n",
      "9991         IT sales professional    254.25.31.156       el           25.93  \n",
      "9992                  Set designer    174.173.51.32       de           67.96  \n",
      "9993  Designer, exhibition/display    177.46.82.128       el           65.61  \n",
      "9994     Education officer, museum    242.44.112.18       zh           31.85  \n",
      "9995                    Printmaker    29.73.197.114       it           82.21  \n",
      "9996               Energy engineer   121.133.168.51       pt           25.63  \n",
      "9997            Veterinary surgeon    156.210.0.254       el           83.98  \n",
      "9998      Local government officer     55.78.26.143       es           38.84  \n",
      "9999        Embryologist, clinical  176.119.198.199       el           67.59  \n"
     ]
    }
   ],
   "source": [
    "# Display top 10 rows\n",
    "print(\"\\nTop 10 Rows:\")\n",
    "print(df.head(10))\n",
    "\n",
    "# Display bottom 10 rows\n",
    "print(\"\\nBottom 10 Rows:\")\n",
    "print(df.tail(10))"
   ]
  },
  {
   "cell_type": "markdown",
   "id": "f331f445",
   "metadata": {
    "papermill": {
     "duration": 0.012706,
     "end_time": "2024-12-20T19:29:59.706226",
     "exception": false,
     "start_time": "2024-12-20T19:29:59.693520",
     "status": "completed"
    },
    "tags": []
   },
   "source": [
    "### **Step 4: Check for Missing Values**\n"
   ]
  },
  {
   "cell_type": "code",
   "execution_count": 4,
   "id": "627d4228",
   "metadata": {
    "execution": {
     "iopub.execute_input": "2024-12-20T19:29:59.733820Z",
     "iopub.status.busy": "2024-12-20T19:29:59.733474Z",
     "iopub.status.idle": "2024-12-20T19:29:59.745759Z",
     "shell.execute_reply": "2024-12-20T19:29:59.744749Z"
    },
    "papermill": {
     "duration": 0.028722,
     "end_time": "2024-12-20T19:29:59.747514",
     "exception": false,
     "start_time": "2024-12-20T19:29:59.718792",
     "status": "completed"
    },
    "tags": []
   },
   "outputs": [
    {
     "name": "stdout",
     "output_type": "stream",
     "text": [
      "\n",
      "Missing Values in Each Column:\n",
      "Address             0\n",
      "Lot                 0\n",
      "AM or PM            0\n",
      "Browser Info        0\n",
      "Company             0\n",
      "Credit Card         0\n",
      "CC Exp Date         0\n",
      "CC Security Code    0\n",
      "CC Provider         0\n",
      "Email               0\n",
      "Job                 0\n",
      "IP Address          0\n",
      "Language            0\n",
      "Purchase Price      0\n",
      "dtype: int64\n"
     ]
    }
   ],
   "source": [
    "# Check for missing values\n",
    "print(\"\\nMissing Values in Each Column:\")\n",
    "print(df.isnull().sum())"
   ]
  },
  {
   "cell_type": "markdown",
   "id": "f9b5fa3a",
   "metadata": {
    "papermill": {
     "duration": 0.012379,
     "end_time": "2024-12-20T19:29:59.772652",
     "exception": false,
     "start_time": "2024-12-20T19:29:59.760273",
     "status": "completed"
    },
    "tags": []
   },
   "source": [
    "### **Step 5: Summarize the Dataset**"
   ]
  },
  {
   "cell_type": "code",
   "execution_count": 5,
   "id": "5afa531f",
   "metadata": {
    "execution": {
     "iopub.execute_input": "2024-12-20T19:29:59.798911Z",
     "iopub.status.busy": "2024-12-20T19:29:59.798568Z",
     "iopub.status.idle": "2024-12-20T19:29:59.871384Z",
     "shell.execute_reply": "2024-12-20T19:29:59.870281Z"
    },
    "papermill": {
     "duration": 0.088146,
     "end_time": "2024-12-20T19:29:59.873410",
     "exception": false,
     "start_time": "2024-12-20T19:29:59.785264",
     "status": "completed"
    },
    "tags": []
   },
   "outputs": [
    {
     "name": "stdout",
     "output_type": "stream",
     "text": [
      "\n",
      "Descriptive Statistics for Numeric Columns:\n",
      "        Credit Card  CC Security Code  Purchase Price\n",
      "count  1.000000e+04      10000.000000    10000.000000\n",
      "mean   2.341374e+15        907.217800       50.347302\n",
      "std    2.256103e+15       1589.693035       29.015836\n",
      "min    6.040186e+10          0.000000        0.000000\n",
      "25%    3.056322e+13        280.000000       25.150000\n",
      "50%    8.699942e+14        548.000000       50.505000\n",
      "75%    4.492298e+15        816.000000       75.770000\n",
      "max    6.012000e+15       9993.000000       99.990000\n",
      "\n",
      "Descriptive Statistics for All Columns:\n",
      "                                                  Address    Lot AM or PM  \\\n",
      "count                                               10000  10000    10000   \n",
      "unique                                              10000   9822        2   \n",
      "top     16629 Pace Camp Apt. 448\\nAlexisborough, NE 77...  16 gc       PM   \n",
      "freq                                                    1      2     5068   \n",
      "mean                                                  NaN    NaN      NaN   \n",
      "std                                                   NaN    NaN      NaN   \n",
      "min                                                   NaN    NaN      NaN   \n",
      "25%                                                   NaN    NaN      NaN   \n",
      "50%                                                   NaN    NaN      NaN   \n",
      "75%                                                   NaN    NaN      NaN   \n",
      "max                                                   NaN    NaN      NaN   \n",
      "\n",
      "                                             Browser Info    Company  \\\n",
      "count                                               10000      10000   \n",
      "unique                                               8287       8653   \n",
      "top     Mozilla/5.0 (compatible; MSIE 9.0; Windows CE;...  Brown Ltd   \n",
      "freq                                                   12         15   \n",
      "mean                                                  NaN        NaN   \n",
      "std                                                   NaN        NaN   \n",
      "min                                                   NaN        NaN   \n",
      "25%                                                   NaN        NaN   \n",
      "50%                                                   NaN        NaN   \n",
      "75%                                                   NaN        NaN   \n",
      "max                                                   NaN        NaN   \n",
      "\n",
      "         Credit Card CC Exp Date  CC Security Code   CC Provider  \\\n",
      "count   1.000000e+04       10000      10000.000000         10000   \n",
      "unique           NaN         121               NaN            10   \n",
      "top              NaN       08/22               NaN  JCB 16 digit   \n",
      "freq             NaN         108               NaN          1716   \n",
      "mean    2.341374e+15         NaN        907.217800           NaN   \n",
      "std     2.256103e+15         NaN       1589.693035           NaN   \n",
      "min     6.040186e+10         NaN          0.000000           NaN   \n",
      "25%     3.056322e+13         NaN        280.000000           NaN   \n",
      "50%     8.699942e+14         NaN        548.000000           NaN   \n",
      "75%     4.492298e+15         NaN        816.000000           NaN   \n",
      "max     6.012000e+15         NaN       9993.000000           NaN   \n",
      "\n",
      "                     Email                            Job       IP Address  \\\n",
      "count                10000                          10000            10000   \n",
      "unique                9954                            623            10000   \n",
      "top     leekathy@yahoo.com  Interior and spatial designer  149.146.147.205   \n",
      "freq                     2                             31                1   \n",
      "mean                   NaN                            NaN              NaN   \n",
      "std                    NaN                            NaN              NaN   \n",
      "min                    NaN                            NaN              NaN   \n",
      "25%                    NaN                            NaN              NaN   \n",
      "50%                    NaN                            NaN              NaN   \n",
      "75%                    NaN                            NaN              NaN   \n",
      "max                    NaN                            NaN              NaN   \n",
      "\n",
      "       Language  Purchase Price  \n",
      "count     10000    10000.000000  \n",
      "unique        9             NaN  \n",
      "top          de             NaN  \n",
      "freq       1155             NaN  \n",
      "mean        NaN       50.347302  \n",
      "std         NaN       29.015836  \n",
      "min         NaN        0.000000  \n",
      "25%         NaN       25.150000  \n",
      "50%         NaN       50.505000  \n",
      "75%         NaN       75.770000  \n",
      "max         NaN       99.990000  \n"
     ]
    }
   ],
   "source": [
    "# Descriptive statistics for numeric columns\n",
    "print(\"\\nDescriptive Statistics for Numeric Columns:\")\n",
    "print(df.describe())\n",
    "\n",
    "# Summary for all columns\n",
    "print(\"\\nDescriptive Statistics for All Columns:\")\n",
    "print(df.describe(include='all'))"
   ]
  },
  {
   "cell_type": "markdown",
   "id": "3fd07ed1",
   "metadata": {
    "papermill": {
     "duration": 0.012597,
     "end_time": "2024-12-20T19:29:59.899419",
     "exception": false,
     "start_time": "2024-12-20T19:29:59.886822",
     "status": "completed"
    },
    "tags": []
   },
   "source": [
    "---\n",
    "### **Next Section: Data Cleaning and Preparation**\n",
    "\n",
    "Now that we’ve explored the dataset, let’s proceed with **data cleaning and preparation**. This section will ensure the dataset is clean, consistent, and ready for analysis. The following tasks will be covered:\n",
    "\n",
    "1. **Check for Missing Values**:\n",
    "   - Confirm no missing values in the dataset.\n",
    "   - Handle any if found.\n",
    "\n",
    "2. **Check for Duplicates**:\n",
    "   - Identify duplicate rows.\n",
    "   - Remove duplicates, if any.\n",
    "\n",
    "3. **Validate Data Types**:\n",
    "   - Ensure all columns have appropriate data types.\n",
    "   - Convert columns if necessary (e.g., dates, numerical columns).\n",
    "\n",
    "4. **Data Consistency Checks**:\n",
    "   - Validate the range of numerical values (e.g., `Purchase Price` is within an expected range).\n",
    "   - Ensure categorical columns have meaningful values."
   ]
  },
  {
   "cell_type": "markdown",
   "id": "75acf2d7",
   "metadata": {
    "papermill": {
     "duration": 0.012564,
     "end_time": "2024-12-20T19:29:59.924856",
     "exception": false,
     "start_time": "2024-12-20T19:29:59.912292",
     "status": "completed"
    },
    "tags": []
   },
   "source": [
    "### **Step 1: Checking for Missing Values**"
   ]
  },
  {
   "cell_type": "code",
   "execution_count": 6,
   "id": "73d48477",
   "metadata": {
    "execution": {
     "iopub.execute_input": "2024-12-20T19:29:59.951878Z",
     "iopub.status.busy": "2024-12-20T19:29:59.951513Z",
     "iopub.status.idle": "2024-12-20T19:29:59.970529Z",
     "shell.execute_reply": "2024-12-20T19:29:59.969278Z"
    },
    "papermill": {
     "duration": 0.034278,
     "end_time": "2024-12-20T19:29:59.972059",
     "exception": false,
     "start_time": "2024-12-20T19:29:59.937781",
     "status": "completed"
    },
    "tags": []
   },
   "outputs": [
    {
     "name": "stdout",
     "output_type": "stream",
     "text": [
      "Missing Values in Each Column:\n",
      "Address             0\n",
      "Lot                 0\n",
      "AM or PM            0\n",
      "Browser Info        0\n",
      "Company             0\n",
      "Credit Card         0\n",
      "CC Exp Date         0\n",
      "CC Security Code    0\n",
      "CC Provider         0\n",
      "Email               0\n",
      "Job                 0\n",
      "IP Address          0\n",
      "Language            0\n",
      "Purchase Price      0\n",
      "dtype: int64\n",
      "No missing values found.\n"
     ]
    }
   ],
   "source": [
    "# Check for missing values in the dataset\n",
    "print(\"Missing Values in Each Column:\")\n",
    "print(df.isnull().sum())\n",
    "\n",
    "# Confirm the dataset does not have missing values\n",
    "if df.isnull().sum().any():\n",
    "    print(\"There are missing values. Consider filling or dropping them.\")\n",
    "else:\n",
    "    print(\"No missing values found.\")"
   ]
  },
  {
   "cell_type": "markdown",
   "id": "cec3664b",
   "metadata": {
    "papermill": {
     "duration": 0.013534,
     "end_time": "2024-12-20T19:29:59.998687",
     "exception": false,
     "start_time": "2024-12-20T19:29:59.985153",
     "status": "completed"
    },
    "tags": []
   },
   "source": [
    "### **Step 2: Checking for Duplicates**\n"
   ]
  },
  {
   "cell_type": "code",
   "execution_count": 7,
   "id": "db01292a",
   "metadata": {
    "execution": {
     "iopub.execute_input": "2024-12-20T19:30:00.028789Z",
     "iopub.status.busy": "2024-12-20T19:30:00.028425Z",
     "iopub.status.idle": "2024-12-20T19:30:00.051862Z",
     "shell.execute_reply": "2024-12-20T19:30:00.050693Z"
    },
    "papermill": {
     "duration": 0.038958,
     "end_time": "2024-12-20T19:30:00.053634",
     "exception": false,
     "start_time": "2024-12-20T19:30:00.014676",
     "status": "completed"
    },
    "tags": []
   },
   "outputs": [
    {
     "name": "stdout",
     "output_type": "stream",
     "text": [
      "Number of duplicate rows: 0\n",
      "No duplicate rows found.\n"
     ]
    }
   ],
   "source": [
    "# Check for duplicate rows\n",
    "duplicates = df.duplicated().sum()\n",
    "print(f\"Number of duplicate rows: {duplicates}\")\n",
    "\n",
    "# Drop duplicate rows if any exist\n",
    "if duplicates > 0:\n",
    "    df = df.drop_duplicates()\n",
    "    print(\"Duplicates have been removed.\")\n",
    "else:\n",
    "    print(\"No duplicate rows found.\")"
   ]
  },
  {
   "cell_type": "markdown",
   "id": "896702e1",
   "metadata": {
    "papermill": {
     "duration": 0.012947,
     "end_time": "2024-12-20T19:30:00.079976",
     "exception": false,
     "start_time": "2024-12-20T19:30:00.067029",
     "status": "completed"
    },
    "tags": []
   },
   "source": [
    "### **Step 3: Validate Data Types**"
   ]
  },
  {
   "cell_type": "code",
   "execution_count": 8,
   "id": "e7e05958",
   "metadata": {
    "execution": {
     "iopub.execute_input": "2024-12-20T19:30:00.107695Z",
     "iopub.status.busy": "2024-12-20T19:30:00.107306Z",
     "iopub.status.idle": "2024-12-20T19:30:00.122358Z",
     "shell.execute_reply": "2024-12-20T19:30:00.121292Z"
    },
    "papermill": {
     "duration": 0.030773,
     "end_time": "2024-12-20T19:30:00.124029",
     "exception": false,
     "start_time": "2024-12-20T19:30:00.093256",
     "status": "completed"
    },
    "tags": []
   },
   "outputs": [
    {
     "name": "stdout",
     "output_type": "stream",
     "text": [
      "\n",
      "Data Types Before Adjustment:\n",
      "Address              object\n",
      "Lot                  object\n",
      "AM or PM             object\n",
      "Browser Info         object\n",
      "Company              object\n",
      "Credit Card           int64\n",
      "CC Exp Date          object\n",
      "CC Security Code      int64\n",
      "CC Provider          object\n",
      "Email                object\n",
      "Job                  object\n",
      "IP Address           object\n",
      "Language             object\n",
      "Purchase Price      float64\n",
      "dtype: object\n",
      "\n",
      "Data Types After Adjustment:\n",
      "Address                     object\n",
      "Lot                         object\n",
      "AM or PM                    object\n",
      "Browser Info                object\n",
      "Company                     object\n",
      "Credit Card                  int64\n",
      "CC Exp Date         datetime64[ns]\n",
      "CC Security Code             int64\n",
      "CC Provider                 object\n",
      "Email                       object\n",
      "Job                         object\n",
      "IP Address                  object\n",
      "Language                    object\n",
      "Purchase Price             float64\n",
      "dtype: object\n"
     ]
    }
   ],
   "source": [
    "# Check data types of each column\n",
    "print(\"\\nData Types Before Adjustment:\")\n",
    "print(df.dtypes)\n",
    "\n",
    "# Convert 'CC Exp Date' to datetime format\n",
    "df['CC Exp Date'] = pd.to_datetime(df['CC Exp Date'], format='%m/%y', errors='coerce')\n",
    "\n",
    "# Confirm data types after conversion\n",
    "print(\"\\nData Types After Adjustment:\")\n",
    "print(df.dtypes)"
   ]
  },
  {
   "cell_type": "markdown",
   "id": "768a914b",
   "metadata": {
    "papermill": {
     "duration": 0.013286,
     "end_time": "2024-12-20T19:30:00.150908",
     "exception": false,
     "start_time": "2024-12-20T19:30:00.137622",
     "status": "completed"
    },
    "tags": []
   },
   "source": [
    "### **Step 4: Validate Numerical and Categorical Data**"
   ]
  },
  {
   "cell_type": "code",
   "execution_count": 9,
   "id": "deb1d102",
   "metadata": {
    "execution": {
     "iopub.execute_input": "2024-12-20T19:30:00.178721Z",
     "iopub.status.busy": "2024-12-20T19:30:00.178364Z",
     "iopub.status.idle": "2024-12-20T19:30:00.187014Z",
     "shell.execute_reply": "2024-12-20T19:30:00.185830Z"
    },
    "papermill": {
     "duration": 0.02497,
     "end_time": "2024-12-20T19:30:00.188969",
     "exception": false,
     "start_time": "2024-12-20T19:30:00.163999",
     "status": "completed"
    },
    "tags": []
   },
   "outputs": [
    {
     "name": "stdout",
     "output_type": "stream",
     "text": [
      "\n",
      "Validating Purchase Price:\n",
      "Min: 0.0, Max: 99.99\n",
      "\n",
      "Unique Values in 'Language':\n",
      "['el' 'fr' 'de' 'es' 'ru' 'pt' 'zh' 'en' 'it']\n",
      "\n",
      "Unique Values in 'AM or PM':\n",
      "['PM' 'AM']\n"
     ]
    }
   ],
   "source": [
    "# Validate numerical columns (e.g., Purchase Price range)\n",
    "print(\"\\nValidating Purchase Price:\")\n",
    "print(f\"Min: {df['Purchase Price'].min()}, Max: {df['Purchase Price'].max()}\")\n",
    "\n",
    "# Check unique values in categorical columns (e.g., 'Language', 'AM or PM')\n",
    "print(\"\\nUnique Values in 'Language':\")\n",
    "print(df['Language'].unique())\n",
    "\n",
    "print(\"\\nUnique Values in 'AM or PM':\")\n",
    "print(df['AM or PM'].unique())"
   ]
  },
  {
   "cell_type": "markdown",
   "id": "75e138c5",
   "metadata": {
    "papermill": {
     "duration": 0.013244,
     "end_time": "2024-12-20T19:30:00.216701",
     "exception": false,
     "start_time": "2024-12-20T19:30:00.203457",
     "status": "completed"
    },
    "tags": []
   },
   "source": [
    "---\n",
    "### **Next Section: Data Analysis and Exploration**\n",
    "\n",
    "In this section, we will leverage pandas functionalities to analyze and explore the dataset. The goal is to extract insights by answering specific questions while demonstrating pandas operations.\n",
    "\n",
    "\n",
    "### **Tasks for Analysis**\n",
    "\n",
    "1. **Basic Statistics**:\n",
    "   - Find the highest, lowest, and average purchase prices.\n",
    "\n",
    "2. **Conditional Filtering**:\n",
    "   - Identify customers with specific characteristics, such as:\n",
    "     - The number of people who use French (`'fr'`) as their language.\n",
    "     - The number of customers whose job title contains \"Engineer.\"\n",
    "\n",
    "3. **Row Selection**:\n",
    "   - Retrieve specific records:\n",
    "     - The email of a person with a given IP address.\n",
    "     - The email of a person with a specific credit card number.\n",
    "\n",
    "4. **Aggregation and Grouping**:\n",
    "   - How many people purchased during the AM and PM.\n",
    "   - How many credit cards expire in a specific year (e.g., 2020).\n",
    "\n",
    "5. **Insights from Categorical Data**:\n",
    "   - Find the top 5 most popular email providers (e.g., `gmail.com`)."
   ]
  },
  {
   "cell_type": "markdown",
   "id": "3889aee6",
   "metadata": {
    "papermill": {
     "duration": 0.012909,
     "end_time": "2024-12-20T19:30:00.242955",
     "exception": false,
     "start_time": "2024-12-20T19:30:00.230046",
     "status": "completed"
    },
    "tags": []
   },
   "source": [
    "### **Step 1: Basic Statistics**"
   ]
  },
  {
   "cell_type": "code",
   "execution_count": 10,
   "id": "e150befd",
   "metadata": {
    "execution": {
     "iopub.execute_input": "2024-12-20T19:30:00.270881Z",
     "iopub.status.busy": "2024-12-20T19:30:00.270540Z",
     "iopub.status.idle": "2024-12-20T19:30:00.277431Z",
     "shell.execute_reply": "2024-12-20T19:30:00.276385Z"
    },
    "papermill": {
     "duration": 0.022917,
     "end_time": "2024-12-20T19:30:00.279131",
     "exception": false,
     "start_time": "2024-12-20T19:30:00.256214",
     "status": "completed"
    },
    "tags": []
   },
   "outputs": [
    {
     "name": "stdout",
     "output_type": "stream",
     "text": [
      "Highest Purchase Price: 99.99\n",
      "Lowest Purchase Price: 0.0\n",
      "Average Purchase Price: 50.347302\n"
     ]
    }
   ],
   "source": [
    "# Find the highest, lowest, and average purchase prices\n",
    "highest_price = df['Purchase Price'].max()\n",
    "lowest_price = df['Purchase Price'].min()\n",
    "average_price = df['Purchase Price'].mean()\n",
    "\n",
    "print(f\"Highest Purchase Price: {highest_price}\")\n",
    "print(f\"Lowest Purchase Price: {lowest_price}\")\n",
    "print(f\"Average Purchase Price: {average_price}\")"
   ]
  },
  {
   "cell_type": "markdown",
   "id": "84908378",
   "metadata": {
    "papermill": {
     "duration": 0.012978,
     "end_time": "2024-12-20T19:30:00.306006",
     "exception": false,
     "start_time": "2024-12-20T19:30:00.293028",
     "status": "completed"
    },
    "tags": []
   },
   "source": [
    "### **Step 2: Conditional Filtering**"
   ]
  },
  {
   "cell_type": "code",
   "execution_count": 11,
   "id": "fbe8840c",
   "metadata": {
    "execution": {
     "iopub.execute_input": "2024-12-20T19:30:00.333968Z",
     "iopub.status.busy": "2024-12-20T19:30:00.333646Z",
     "iopub.status.idle": "2024-12-20T19:30:00.351661Z",
     "shell.execute_reply": "2024-12-20T19:30:00.350659Z"
    },
    "papermill": {
     "duration": 0.033805,
     "end_time": "2024-12-20T19:30:00.353249",
     "exception": false,
     "start_time": "2024-12-20T19:30:00.319444",
     "status": "completed"
    },
    "tags": []
   },
   "outputs": [
    {
     "name": "stdout",
     "output_type": "stream",
     "text": [
      "Number of French speakers: 1097\n",
      "Number of customers with 'Engineer' in their job title: 984\n"
     ]
    }
   ],
   "source": [
    "# Number of people who use French ('fr') as their language\n",
    "french_speakers = df[df['Language'] == 'fr'].shape[0]\n",
    "print(f\"Number of French speakers: {french_speakers}\")\n",
    "\n",
    "# Number of customers with \"Engineer\" in their job title\n",
    "engineers = df[df['Job'].str.contains('Engineer', case=False)].shape[0]\n",
    "print(f\"Number of customers with 'Engineer' in their job title: {engineers}\")"
   ]
  },
  {
   "cell_type": "markdown",
   "id": "aa687bcb",
   "metadata": {
    "papermill": {
     "duration": 0.013362,
     "end_time": "2024-12-20T19:30:00.380589",
     "exception": false,
     "start_time": "2024-12-20T19:30:00.367227",
     "status": "completed"
    },
    "tags": []
   },
   "source": [
    "### **Step 3: Row Selection**"
   ]
  },
  {
   "cell_type": "code",
   "execution_count": 12,
   "id": "d6b4d362",
   "metadata": {
    "execution": {
     "iopub.execute_input": "2024-12-20T19:30:00.410078Z",
     "iopub.status.busy": "2024-12-20T19:30:00.409736Z",
     "iopub.status.idle": "2024-12-20T19:30:00.419135Z",
     "shell.execute_reply": "2024-12-20T19:30:00.418084Z"
    },
    "papermill": {
     "duration": 0.025938,
     "end_time": "2024-12-20T19:30:00.420831",
     "exception": false,
     "start_time": "2024-12-20T19:30:00.394893",
     "status": "completed"
    },
    "tags": []
   },
   "outputs": [
    {
     "name": "stdout",
     "output_type": "stream",
     "text": [
      "Email of the person with IP 132.207.160.22: amymiller@morales-harrison.com\n",
      "Email of the person with Credit Card 4664825258997302: bberry@wright.net\n"
     ]
    }
   ],
   "source": [
    "# Find the email of the person with a specific IP address\n",
    "ip_address = '132.207.160.22'  # Replace with desired IP address\n",
    "email_by_ip = df[df['IP Address'] == ip_address]['Email'].iloc[0]\n",
    "print(f\"Email of the person with IP {ip_address}: {email_by_ip}\")\n",
    "\n",
    "# Find the email of the person with a specific credit card number\n",
    "cc_number = 4664825258997302  # Replace with desired credit card number\n",
    "email_by_cc = df[df['Credit Card'] == cc_number]['Email'].iloc[0]\n",
    "print(f\"Email of the person with Credit Card {cc_number}: {email_by_cc}\")"
   ]
  },
  {
   "cell_type": "markdown",
   "id": "eb083ae8",
   "metadata": {
    "papermill": {
     "duration": 0.013152,
     "end_time": "2024-12-20T19:30:00.447865",
     "exception": false,
     "start_time": "2024-12-20T19:30:00.434713",
     "status": "completed"
    },
    "tags": []
   },
   "source": [
    "### **Step 4: Aggregation and Grouping**"
   ]
  },
  {
   "cell_type": "code",
   "execution_count": 13,
   "id": "cb712e2c",
   "metadata": {
    "execution": {
     "iopub.execute_input": "2024-12-20T19:30:00.476410Z",
     "iopub.status.busy": "2024-12-20T19:30:00.475758Z",
     "iopub.status.idle": "2024-12-20T19:30:00.486023Z",
     "shell.execute_reply": "2024-12-20T19:30:00.484800Z"
    },
    "papermill": {
     "duration": 0.026434,
     "end_time": "2024-12-20T19:30:00.487836",
     "exception": false,
     "start_time": "2024-12-20T19:30:00.461402",
     "status": "completed"
    },
    "tags": []
   },
   "outputs": [
    {
     "name": "stdout",
     "output_type": "stream",
     "text": [
      "\n",
      "Number of purchases during AM and PM:\n",
      "AM or PM\n",
      "PM    5068\n",
      "AM    4932\n",
      "Name: count, dtype: int64\n",
      "\n",
      "Number of credit cards expiring in 2020: 988\n"
     ]
    }
   ],
   "source": [
    "# Number of purchases during AM and PM\n",
    "am_pm_counts = df['AM or PM'].value_counts()\n",
    "print(\"\\nNumber of purchases during AM and PM:\")\n",
    "print(am_pm_counts)\n",
    "\n",
    "# Number of credit cards that expire in 2020\n",
    "expiring_2020 = df[df['CC Exp Date'].dt.year == 2020].shape[0]\n",
    "print(f\"\\nNumber of credit cards expiring in 2020: {expiring_2020}\")"
   ]
  },
  {
   "cell_type": "markdown",
   "id": "117289c3",
   "metadata": {
    "papermill": {
     "duration": 0.013266,
     "end_time": "2024-12-20T19:30:00.514745",
     "exception": false,
     "start_time": "2024-12-20T19:30:00.501479",
     "status": "completed"
    },
    "tags": []
   },
   "source": [
    "### **Step 5: Insights from Categorical Data**"
   ]
  },
  {
   "cell_type": "code",
   "execution_count": 14,
   "id": "dabc9cd4",
   "metadata": {
    "execution": {
     "iopub.execute_input": "2024-12-20T19:30:00.543051Z",
     "iopub.status.busy": "2024-12-20T19:30:00.542724Z",
     "iopub.status.idle": "2024-12-20T19:30:00.556772Z",
     "shell.execute_reply": "2024-12-20T19:30:00.555557Z"
    },
    "papermill": {
     "duration": 0.03029,
     "end_time": "2024-12-20T19:30:00.558592",
     "exception": false,
     "start_time": "2024-12-20T19:30:00.528302",
     "status": "completed"
    },
    "tags": []
   },
   "outputs": [
    {
     "name": "stdout",
     "output_type": "stream",
     "text": [
      "\n",
      "Top 5 most popular email providers:\n",
      "Email Provider\n",
      "hotmail.com     1638\n",
      "yahoo.com       1616\n",
      "gmail.com       1605\n",
      "smith.com         42\n",
      "williams.com      37\n",
      "Name: count, dtype: int64\n"
     ]
    }
   ],
   "source": [
    "# Extract email providers and find the top 5 most popular\n",
    "df['Email Provider'] = df['Email'].apply(lambda x: x.split('@')[1])\n",
    "top_providers = df['Email Provider'].value_counts().head(5)\n",
    "\n",
    "print(\"\\nTop 5 most popular email providers:\")\n",
    "print(top_providers)"
   ]
  },
  {
   "cell_type": "markdown",
   "id": "e119bed0",
   "metadata": {
    "papermill": {
     "duration": 0.013191,
     "end_time": "2024-12-20T19:30:00.586347",
     "exception": false,
     "start_time": "2024-12-20T19:30:00.573156",
     "status": "completed"
    },
    "tags": []
   },
   "source": [
    "---\n",
    "### **Next Section: Data Visualization**\n",
    "\n",
    "In this section, we will use pandas and other visualization libraries like Matplotlib and Seaborn to visually represent our findings. This helps in better understanding the data and presenting insights effectively.\n",
    "\n",
    "\n",
    "### **Tasks for Visualization**\n",
    "\n",
    "1. **Bar Chart**: Show purchases during AM and PM.\n",
    "2. **Pie Chart**: Visualize the distribution of the top 5 email providers.\n",
    "3. **Histogram**: Plot the distribution of `Purchase Price`.\n",
    "4. **Line Chart**: Analyze the trend of purchases by `CC Exp Date`.\n",
    "5. **Box Plot**: Show the spread of `Purchase Price` for different credit card providers.\n"
   ]
  },
  {
   "cell_type": "markdown",
   "id": "004cf206",
   "metadata": {
    "papermill": {
     "duration": 0.013135,
     "end_time": "2024-12-20T19:30:00.613085",
     "exception": false,
     "start_time": "2024-12-20T19:30:00.599950",
     "status": "completed"
    },
    "tags": []
   },
   "source": [
    "### **Step 1: Importing Visualization Libraries**"
   ]
  },
  {
   "cell_type": "code",
   "execution_count": 15,
   "id": "4989b26c",
   "metadata": {
    "execution": {
     "iopub.execute_input": "2024-12-20T19:30:00.641270Z",
     "iopub.status.busy": "2024-12-20T19:30:00.640884Z",
     "iopub.status.idle": "2024-12-20T19:30:02.155373Z",
     "shell.execute_reply": "2024-12-20T19:30:02.154430Z"
    },
    "papermill": {
     "duration": 1.530884,
     "end_time": "2024-12-20T19:30:02.157418",
     "exception": false,
     "start_time": "2024-12-20T19:30:00.626534",
     "status": "completed"
    },
    "tags": []
   },
   "outputs": [],
   "source": [
    "import matplotlib.pyplot as plt\n",
    "import seaborn as sns"
   ]
  },
  {
   "cell_type": "markdown",
   "id": "680519e8",
   "metadata": {
    "papermill": {
     "duration": 0.013516,
     "end_time": "2024-12-20T19:30:02.184842",
     "exception": false,
     "start_time": "2024-12-20T19:30:02.171326",
     "status": "completed"
    },
    "tags": []
   },
   "source": [
    "### **Step 2: Bar Chart - Purchases During AM and PM**"
   ]
  },
  {
   "cell_type": "code",
   "execution_count": 16,
   "id": "21ba21b2",
   "metadata": {
    "execution": {
     "iopub.execute_input": "2024-12-20T19:30:02.213643Z",
     "iopub.status.busy": "2024-12-20T19:30:02.213119Z",
     "iopub.status.idle": "2024-12-20T19:30:02.461901Z",
     "shell.execute_reply": "2024-12-20T19:30:02.460819Z"
    },
    "papermill": {
     "duration": 0.264679,
     "end_time": "2024-12-20T19:30:02.463516",
     "exception": false,
     "start_time": "2024-12-20T19:30:02.198837",
     "status": "completed"
    },
    "tags": []
   },
   "outputs": [
    {
     "data": {
      "image/png": "[encoded data removed]",
      "text/plain": [
       "<Figure size 600x400 with 1 Axes>"
      ]
     },
     "metadata": {},
     "output_type": "display_data"
    }
   ],
   "source": [
    "# Purchases during AM and PM\n",
    "am_pm_counts = df['AM or PM'].value_counts()\n",
    "\n",
    "# Bar chart\n",
    "plt.figure(figsize=(6, 4))\n",
    "am_pm_counts.plot(kind='bar', color=['skyblue', 'orange'])\n",
    "plt.title('Number of Purchases During AM and PM')\n",
    "plt.xlabel('Time of Purchase')\n",
    "plt.ylabel('Number of Purchases')\n",
    "plt.xticks(rotation=0)\n",
    "plt.show()"
   ]
  },
  {
   "cell_type": "markdown",
   "id": "32c0f387",
   "metadata": {
    "papermill": {
     "duration": 0.013873,
     "end_time": "2024-12-20T19:30:02.491588",
     "exception": false,
     "start_time": "2024-12-20T19:30:02.477715",
     "status": "completed"
    },
    "tags": []
   },
   "source": [
    "### **Step 3: Pie Chart - Top 5 Email Providers**"
   ]
  },
  {
   "cell_type": "code",
   "execution_count": 17,
   "id": "6e9e314f",
   "metadata": {
    "execution": {
     "iopub.execute_input": "2024-12-20T19:30:02.520779Z",
     "iopub.status.busy": "2024-12-20T19:30:02.520424Z",
     "iopub.status.idle": "2024-12-20T19:30:02.657859Z",
     "shell.execute_reply": "2024-12-20T19:30:02.656723Z"
    },
    "papermill": {
     "duration": 0.154635,
     "end_time": "2024-12-20T19:30:02.660214",
     "exception": false,
     "start_time": "2024-12-20T19:30:02.505579",
     "status": "completed"
    },
    "tags": []
   },
   "outputs": [
    {
     "data": {
      "image/png": "[encoded data removed]",
      "text/plain": [
       "<Figure size 600x600 with 1 Axes>"
      ]
     },
     "metadata": {},
     "output_type": "display_data"
    }
   ],
   "source": [
    "# Top 5 email providers\n",
    "top_providers = df['Email Provider'].value_counts().head(5)\n",
    "\n",
    "# Pie chart\n",
    "plt.figure(figsize=(6, 6))\n",
    "top_providers.plot(kind='pie', autopct='%1.1f%%', startangle=90, colormap='viridis')\n",
    "plt.title('Top 5 Email Providers')\n",
    "plt.ylabel('')\n",
    "plt.show()"
   ]
  },
  {
   "cell_type": "markdown",
   "id": "261453a7",
   "metadata": {
    "papermill": {
     "duration": 0.02743,
     "end_time": "2024-12-20T19:30:02.715684",
     "exception": false,
     "start_time": "2024-12-20T19:30:02.688254",
     "status": "completed"
    },
    "tags": []
   },
   "source": [
    "### **Step 4: Histogram - Distribution of Purchase Price**\n"
   ]
  },
  {
   "cell_type": "code",
   "execution_count": 18,
   "id": "d2728d34",
   "metadata": {
    "execution": {
     "iopub.execute_input": "2024-12-20T19:30:02.757686Z",
     "iopub.status.busy": "2024-12-20T19:30:02.757304Z",
     "iopub.status.idle": "2024-12-20T19:30:03.136758Z",
     "shell.execute_reply": "2024-12-20T19:30:03.135678Z"
    },
    "papermill": {
     "duration": 0.397472,
     "end_time": "2024-12-20T19:30:03.138994",
     "exception": false,
     "start_time": "2024-12-20T19:30:02.741522",
     "status": "completed"
    },
    "tags": []
   },
   "outputs": [
    {
     "name": "stderr",
     "output_type": "stream",
     "text": [
      "/usr/local/lib/python3.10/dist-packages/seaborn/_oldcore.py:1119: FutureWarning: use_inf_as_na option is deprecated and will be removed in a future version. Convert inf values to NaN before operating instead.\n",
      "  with pd.option_context('mode.use_inf_as_na', True):\n"
     ]
    },
    {
     "data": {
      "image/png": "[encoded data removed]",
      "text/plain": [
       "<Figure size 800x500 with 1 Axes>"
      ]
     },
     "metadata": {},
     "output_type": "display_data"
    }
   ],
   "source": [
    "# Histogram\n",
    "plt.figure(figsize=(8, 5))\n",
    "sns.histplot(df['Purchase Price'], bins=30, kde=True, color='blue')\n",
    "plt.title('Distribution of Purchase Price')\n",
    "plt.xlabel('Purchase Price')\n",
    "plt.ylabel('Frequency')\n",
    "plt.show()"
   ]
  },
  {
   "cell_type": "markdown",
   "id": "a4293652",
   "metadata": {
    "papermill": {
     "duration": 0.01565,
     "end_time": "2024-12-20T19:30:03.171087",
     "exception": false,
     "start_time": "2024-12-20T19:30:03.155437",
     "status": "completed"
    },
    "tags": []
   },
   "source": [
    "### **Step 5: Line Chart - Purchases by Credit Card Expiry Date**"
   ]
  },
  {
   "cell_type": "code",
   "execution_count": 19,
   "id": "bc3336d2",
   "metadata": {
    "execution": {
     "iopub.execute_input": "2024-12-20T19:30:03.204484Z",
     "iopub.status.busy": "2024-12-20T19:30:03.204085Z",
     "iopub.status.idle": "2024-12-20T19:30:03.459871Z",
     "shell.execute_reply": "2024-12-20T19:30:03.458752Z"
    },
    "papermill": {
     "duration": 0.274285,
     "end_time": "2024-12-20T19:30:03.461509",
     "exception": false,
     "start_time": "2024-12-20T19:30:03.187224",
     "status": "completed"
    },
    "tags": []
   },
   "outputs": [
    {
     "data": {
      "image/png": "[encoded data removed]",
      "text/plain": [
       "<Figure size 800x500 with 1 Axes>"
      ]
     },
     "metadata": {},
     "output_type": "display_data"
    }
   ],
   "source": [
    "# Extracting year from CC Exp Date for analysis\n",
    "df['CC Exp Year'] = df['CC Exp Date'].dt.year\n",
    "\n",
    "# Line chart\n",
    "yearly_purchases = df['CC Exp Year'].value_counts().sort_index()\n",
    "plt.figure(figsize=(8, 5))\n",
    "yearly_purchases.plot(kind='line', marker='o', color='green')\n",
    "plt.title('Trend of Credit Card Expiry Dates')\n",
    "plt.xlabel('Year')\n",
    "plt.ylabel('Number of Cards Expiring')\n",
    "plt.grid(True)\n",
    "plt.show()"
   ]
  },
  {
   "cell_type": "markdown",
   "id": "98c26cd3",
   "metadata": {
    "papermill": {
     "duration": 0.016194,
     "end_time": "2024-12-20T19:30:03.495371",
     "exception": false,
     "start_time": "2024-12-20T19:30:03.479177",
     "status": "completed"
    },
    "tags": []
   },
   "source": [
    "### **Step 6: Box Plot - Spread of Purchase Price by Credit Card Provider**\n"
   ]
  },
  {
   "cell_type": "code",
   "execution_count": 20,
   "id": "fd4b3a39",
   "metadata": {
    "execution": {
     "iopub.execute_input": "2024-12-20T19:30:03.529811Z",
     "iopub.status.busy": "2024-12-20T19:30:03.529460Z",
     "iopub.status.idle": "2024-12-20T19:30:03.830050Z",
     "shell.execute_reply": "2024-12-20T19:30:03.828918Z"
    },
    "papermill": {
     "duration": 0.32031,
     "end_time": "2024-12-20T19:30:03.832133",
     "exception": false,
     "start_time": "2024-12-20T19:30:03.511823",
     "status": "completed"
    },
    "tags": []
   },
   "outputs": [
    {
     "data": {
      "image/png": "[encoded data removed]",
      "text/plain": [
       "<Figure size 1000x600 with 1 Axes>"
      ]
     },
     "metadata": {},
     "output_type": "display_data"
    }
   ],
   "source": [
    "# Box plot\n",
    "plt.figure(figsize=(10, 6))\n",
    "sns.boxplot(x='CC Provider', y='Purchase Price', data=df)\n",
    "plt.title('Spread of Purchase Price by Credit Card Provider')\n",
    "plt.xlabel('Credit Card Provider')\n",
    "plt.ylabel('Purchase Price')\n",
    "plt.xticks(rotation=45)\n",
    "plt.show()"
   ]
  },
  {
   "cell_type": "markdown",
   "id": "b2e79a42",
   "metadata": {
    "papermill": {
     "duration": 0.017386,
     "end_time": "2024-12-20T19:30:03.867656",
     "exception": false,
     "start_time": "2024-12-20T19:30:03.850270",
     "status": "completed"
    },
    "tags": []
   },
   "source": [
    "---\n",
    "### **Next Section: Advanced Pandas Operations**\n",
    "\n",
    "In this section, we will explore more advanced pandas functionalities to deepen our analysis of the **E-Commerce Purchases dataset**. These concepts will enable us to extract richer insights and prepare the data for scalable applications.\n"
   ]
  },
  {
   "cell_type": "markdown",
   "id": "c77bb807",
   "metadata": {
    "papermill": {
     "duration": 0.017337,
     "end_time": "2024-12-20T19:30:03.902492",
     "exception": false,
     "start_time": "2024-12-20T19:30:03.885155",
     "status": "completed"
    },
    "tags": []
   },
   "source": [
    "### **Tasks for Advanced Analysis**\n",
    "\n",
    "#### **1. Merging and Joining**\n",
    "Combine the dataset with another dataset (e.g., customer demographics) to enhance our analysis by:\n",
    "- Merging data on a common column like `Email`.\n",
    "- Exploring different types of joins (inner, outer, left, right)."
   ]
  },
  {
   "cell_type": "code",
   "execution_count": 21,
   "id": "4c2f4f61",
   "metadata": {
    "execution": {
     "iopub.execute_input": "2024-12-20T19:30:03.939224Z",
     "iopub.status.busy": "2024-12-20T19:30:03.938830Z",
     "iopub.status.idle": "2024-12-20T19:30:03.966745Z",
     "shell.execute_reply": "2024-12-20T19:30:03.965373Z"
    },
    "papermill": {
     "duration": 0.048501,
     "end_time": "2024-12-20T19:30:03.968571",
     "exception": false,
     "start_time": "2024-12-20T19:30:03.920070",
     "status": "completed"
    },
    "tags": []
   },
   "outputs": [
    {
     "name": "stdout",
     "output_type": "stream",
     "text": [
      "                                             Address    Lot AM or PM  \\\n",
      "0  16629 Pace Camp Apt. 448\\nAlexisborough, NE 77...  46 in       PM   \n",
      "1  9374 Jasmine Spurs Suite 508\\nSouth John, TN 8...  28 rn       PM   \n",
      "2                   Unit 0065 Box 5052\\nDPO AP 27450  94 vE       PM   \n",
      "3              7780 Julia Fords\\nNew Stacy, WA 45798  36 vm       PM   \n",
      "4  23012 Munoz Drive Suite 337\\nNew Cynthia, TX 5...  20 IE       AM   \n",
      "\n",
      "                                        Browser Info  \\\n",
      "0  Opera/9.56.(X11; Linux x86_64; sl-SI) Presto/2...   \n",
      "1  Opera/8.93.(Windows 98; Win 9x 4.90; en-US) Pr...   \n",
      "2  Mozilla/5.0 (compatible; MSIE 9.0; Windows NT ...   \n",
      "3  Mozilla/5.0 (Macintosh; Intel Mac OS X 10_8_0 ...   \n",
      "4  Opera/9.58.(X11; Linux x86_64; it-IT) Presto/2...   \n",
      "\n",
      "                           Company       Credit Card CC Exp Date  \\\n",
      "0                  Martinez-Herman  6011929061123406  2020-02-01   \n",
      "1  Fletcher, Richards and Whitaker  3337758169645356  2018-11-01   \n",
      "2       Simpson, Williams and Pham      675957666125  2019-08-01   \n",
      "3  Williams, Marshall and Buchanan  6011578504430710  2024-02-01   \n",
      "4        Brown, Watson and Andrews  6011456623207998  2025-10-01   \n",
      "\n",
      "   CC Security Code                  CC Provider  \\\n",
      "0               900                 JCB 16 digit   \n",
      "1               561                   Mastercard   \n",
      "2               699                 JCB 16 digit   \n",
      "3               384                     Discover   \n",
      "4               678  Diners Club / Carte Blanche   \n",
      "\n",
      "                            Email                                     Job  \\\n",
      "0               pdunlap@yahoo.com  Scientist, product/process development   \n",
      "1              anthony41@reed.com                       Drilling engineer   \n",
      "2  amymiller@morales-harrison.com                Customer service manager   \n",
      "3     brent16@olson-robinson.info                       Drilling engineer   \n",
      "4     christopherwright@gmail.com                             Fine artist   \n",
      "\n",
      "        IP Address Language  Purchase Price        Email Provider  \\\n",
      "0  149.146.147.205       el           98.14             yahoo.com   \n",
      "1     15.160.41.51       fr           70.73              reed.com   \n",
      "2   132.207.160.22       de            0.95  morales-harrison.com   \n",
      "3     30.250.74.19       es           78.04   olson-robinson.info   \n",
      "4     24.140.33.94       es           77.82             gmail.com   \n",
      "\n",
      "   CC Exp Year   Age  Gender  \n",
      "0         2020  34.0  Female  \n",
      "1         2018  29.0    Male  \n",
      "2         2019   NaN     NaN  \n",
      "3         2024   NaN     NaN  \n",
      "4         2025   NaN     NaN  \n"
     ]
    }
   ],
   "source": [
    "# Hypothetical demographics dataset\n",
    "demographics_df = pd.DataFrame({\n",
    "    'Email': ['pdunlap@yahoo.com', 'anthony41@reed.com'],\n",
    "    'Age': [34, 29],\n",
    "    'Gender': ['Female', 'Male']\n",
    "})\n",
    "\n",
    "# Merge with the existing dataset\n",
    "merged_df = pd.merge(df, demographics_df, on='Email', how='left')\n",
    "print(merged_df.head())"
   ]
  },
  {
   "cell_type": "markdown",
   "id": "e2a6eeab",
   "metadata": {
    "papermill": {
     "duration": 0.02025,
     "end_time": "2024-12-20T19:30:04.007692",
     "exception": false,
     "start_time": "2024-12-20T19:30:03.987442",
     "status": "completed"
    },
    "tags": []
   },
   "source": [
    "#### **2. Reshaping and Pivoting**\n",
    "Reshape the dataset to gain new perspectives using:\n",
    "- Pivot tables for summarizing data by categorical variables.\n",
    "- `melt()` for transforming wide-form data into long-form."
   ]
  },
  {
   "cell_type": "code",
   "execution_count": 22,
   "id": "8ef941a8",
   "metadata": {
    "execution": {
     "iopub.execute_input": "2024-12-20T19:30:04.045853Z",
     "iopub.status.busy": "2024-12-20T19:30:04.045476Z",
     "iopub.status.idle": "2024-12-20T19:30:04.064512Z",
     "shell.execute_reply": "2024-12-20T19:30:04.063292Z"
    },
    "papermill": {
     "duration": 0.039489,
     "end_time": "2024-12-20T19:30:04.066461",
     "exception": false,
     "start_time": "2024-12-20T19:30:04.026972",
     "status": "completed"
    },
    "tags": []
   },
   "outputs": [
    {
     "name": "stdout",
     "output_type": "stream",
     "text": [
      "AM or PM         AM         PM\n",
      "Language                      \n",
      "de        49.772661  50.732155\n",
      "el        51.248159  51.858794\n",
      "en        51.117996  51.089585\n",
      "es        48.087037  50.612324\n",
      "fr        47.583653  51.325441\n",
      "it        51.483766  48.496234\n",
      "pt        51.998382  50.457518\n",
      "ru        49.662960  50.162340\n",
      "zh        50.691673  49.627525\n"
     ]
    }
   ],
   "source": [
    "# Pivot table summarizing purchase prices by Language and AM/PM\n",
    "pivot_table = df.pivot_table(\n",
    "    values='Purchase Price',\n",
    "    index='Language',\n",
    "    columns='AM or PM',\n",
    "    aggfunc='mean'\n",
    ")\n",
    "print(pivot_table)"
   ]
  },
  {
   "cell_type": "markdown",
   "id": "f75f0fd0",
   "metadata": {
    "papermill": {
     "duration": 0.017737,
     "end_time": "2024-12-20T19:30:04.102424",
     "exception": false,
     "start_time": "2024-12-20T19:30:04.084687",
     "status": "completed"
    },
    "tags": []
   },
   "source": [
    "#### **3. Time-Series Analysis**\n",
    "Leverage the credit card expiration dates as time-series data to analyze trends:\n",
    "- Group by year to track expiration patterns.\n",
    "- Resample data (e.g., monthly or yearly)."
   ]
  },
  {
   "cell_type": "code",
   "execution_count": 23,
   "id": "b6e81747",
   "metadata": {
    "execution": {
     "iopub.execute_input": "2024-12-20T19:30:04.139507Z",
     "iopub.status.busy": "2024-12-20T19:30:04.139049Z",
     "iopub.status.idle": "2024-12-20T19:30:04.147146Z",
     "shell.execute_reply": "2024-12-20T19:30:04.145924Z"
    },
    "papermill": {
     "duration": 0.028439,
     "end_time": "2024-12-20T19:30:04.148783",
     "exception": false,
     "start_time": "2024-12-20T19:30:04.120344",
     "status": "completed"
    },
    "tags": []
   },
   "outputs": [
    {
     "name": "stdout",
     "output_type": "stream",
     "text": [
      "CC Exp Date\n",
      "2016     376\n",
      "2017     955\n",
      "2018     995\n",
      "2019     995\n",
      "2020     988\n",
      "2021    1006\n",
      "2022     996\n",
      "2023    1010\n",
      "2024     992\n",
      "2025    1033\n",
      "2026     654\n",
      "Name: Credit Card, dtype: int64\n"
     ]
    }
   ],
   "source": [
    "# Analyze credit card expiry trends by year\n",
    "expiry_trends = df.groupby(df['CC Exp Date'].dt.year)['Credit Card'].count()\n",
    "print(expiry_trends)"
   ]
  },
  {
   "cell_type": "markdown",
   "id": "04776367",
   "metadata": {
    "papermill": {
     "duration": 0.018193,
     "end_time": "2024-12-20T19:30:04.184882",
     "exception": false,
     "start_time": "2024-12-20T19:30:04.166689",
     "status": "completed"
    },
    "tags": []
   },
   "source": [
    "#### **4. MultiIndex and Hierarchical Indexing**\n",
    "Use multi-level indexing for more complex grouping and analysis:\n",
    "- Analyze job titles within specific languages.\n",
    "- Summarize purchase prices by language and credit card provider."
   ]
  },
  {
   "cell_type": "code",
   "execution_count": 24,
   "id": "1b1bbe5c",
   "metadata": {
    "execution": {
     "iopub.execute_input": "2024-12-20T19:30:04.221908Z",
     "iopub.status.busy": "2024-12-20T19:30:04.221536Z",
     "iopub.status.idle": "2024-12-20T19:30:04.243588Z",
     "shell.execute_reply": "2024-12-20T19:30:04.242291Z"
    },
    "papermill": {
     "duration": 0.042731,
     "end_time": "2024-12-20T19:30:04.245351",
     "exception": false,
     "start_time": "2024-12-20T19:30:04.202620",
     "status": "completed"
    },
    "tags": []
   },
   "outputs": [
    {
     "name": "stdout",
     "output_type": "stream",
     "text": [
      "Language  CC Provider                \n",
      "de        American Express               41.933111\n",
      "          Diners Club / Carte Blanche    47.738222\n",
      "          Discover                       48.149398\n",
      "          JCB 15 digit                   52.289388\n",
      "          JCB 16 digit                   50.840287\n",
      "                                           ...    \n",
      "zh        Maestro                        51.562581\n",
      "          Mastercard                     51.262366\n",
      "          VISA 13 digit                  51.862564\n",
      "          VISA 16 digit                  49.087977\n",
      "          Voyager                        50.308696\n",
      "Name: Purchase Price, Length: 90, dtype: float64\n"
     ]
    }
   ],
   "source": [
    "# Creating a MultiIndex DataFrame\n",
    "multi_index_df = df.set_index(['Language', 'CC Provider'])\n",
    "\n",
    "# Summarizing purchase prices\n",
    "summary = multi_index_df['Purchase Price'].groupby(level=['Language', 'CC Provider']).mean()\n",
    "print(summary)"
   ]
  },
  {
   "cell_type": "markdown",
   "id": "d45aa6bb",
   "metadata": {
    "papermill": {
     "duration": 0.017905,
     "end_time": "2024-12-20T19:30:04.281587",
     "exception": false,
     "start_time": "2024-12-20T19:30:04.263682",
     "status": "completed"
    },
    "tags": []
   },
   "source": [
    "#### **5. Writing Processed Data to Files**\n",
    "Save the cleaned and analyzed dataset for future use or sharing:\n",
    "- Save as CSV or Excel files."
   ]
  },
  {
   "cell_type": "code",
   "execution_count": 25,
   "id": "d5e35784",
   "metadata": {
    "execution": {
     "iopub.execute_input": "2024-12-20T19:30:04.319312Z",
     "iopub.status.busy": "2024-12-20T19:30:04.318918Z",
     "iopub.status.idle": "2024-12-20T19:30:08.975233Z",
     "shell.execute_reply": "2024-12-20T19:30:08.974177Z"
    },
    "papermill": {
     "duration": 4.677326,
     "end_time": "2024-12-20T19:30:08.977168",
     "exception": false,
     "start_time": "2024-12-20T19:30:04.299842",
     "status": "completed"
    },
    "tags": []
   },
   "outputs": [],
   "source": [
    "# Save processed data to CSV\n",
    "df.to_csv('Processed_Ecommerce_Purchases.csv', index=False)\n",
    "\n",
    "# Save processed data to Excel\n",
    "df.to_excel('Processed_Ecommerce_Purchases.xlsx', index=False)"
   ]
  },
  {
   "cell_type": "markdown",
   "id": "b46d3410",
   "metadata": {
    "papermill": {
     "duration": 0.019889,
     "end_time": "2024-12-20T19:30:09.015397",
     "exception": false,
     "start_time": "2024-12-20T19:30:08.995508",
     "status": "completed"
    },
    "tags": []
   },
   "source": [
    "#### **6. Performance Optimization**\n",
    "Optimize performance for larger datasets:\n",
    "- Use chunking to process data in smaller parts.\n",
    "- Leverage pandas vectorized operations for efficiency."
   ]
  },
  {
   "cell_type": "code",
   "execution_count": 26,
   "id": "7b8f664c",
   "metadata": {
    "execution": {
     "iopub.execute_input": "2024-12-20T19:30:09.052662Z",
     "iopub.status.busy": "2024-12-20T19:30:09.052109Z",
     "iopub.status.idle": "2024-12-20T19:30:09.134391Z",
     "shell.execute_reply": "2024-12-20T19:30:09.133103Z"
    },
    "papermill": {
     "duration": 0.102723,
     "end_time": "2024-12-20T19:30:09.135982",
     "exception": false,
     "start_time": "2024-12-20T19:30:09.033259",
     "status": "completed"
    },
    "tags": []
   },
   "outputs": [
    {
     "name": "stdout",
     "output_type": "stream",
     "text": [
      "49.65643\n",
      "51.186589999999995\n",
      "49.70272\n",
      "50.40256\n",
      "49.39354\n",
      "51.43860000000001\n",
      "50.2707\n",
      "51.606379999999994\n",
      "49.26314\n",
      "50.55236\n"
     ]
    }
   ],
   "source": [
    "# Example of chunking for large datasets\n",
    "chunks = pd.read_csv(file_path, chunksize=1000)\n",
    "for chunk in chunks:\n",
    "    print(chunk['Purchase Price'].mean())"
   ]
  },
  {
   "cell_type": "markdown",
   "id": "dd8cf311",
   "metadata": {
    "papermill": {
     "duration": 0.018335,
     "end_time": "2024-12-20T19:30:09.172468",
     "exception": false,
     "start_time": "2024-12-20T19:30:09.154133",
     "status": "completed"
    },
    "tags": []
   },
   "source": [
    "#### **7. Application-Oriented Analysis**\n",
    "Build actionable insights, such as:\n",
    "- Automating reports for high-value customers (e.g., Purchase Price > $90).\n",
    "- Identifying top job titles contributing to high purchases."
   ]
  },
  {
   "cell_type": "code",
   "execution_count": 27,
   "id": "a0bbd7d6",
   "metadata": {
    "execution": {
     "iopub.execute_input": "2024-12-20T19:30:09.209961Z",
     "iopub.status.busy": "2024-12-20T19:30:09.209615Z",
     "iopub.status.idle": "2024-12-20T19:30:09.224636Z",
     "shell.execute_reply": "2024-12-20T19:30:09.223099Z"
    },
    "papermill": {
     "duration": 0.035926,
     "end_time": "2024-12-20T19:30:09.226489",
     "exception": false,
     "start_time": "2024-12-20T19:30:09.190563",
     "status": "completed"
    },
    "tags": []
   },
   "outputs": [
    {
     "name": "stdout",
     "output_type": "stream",
     "text": [
      "                            Email  Purchase Price\n",
      "0               pdunlap@yahoo.com           98.14\n",
      "9        qcoleman@hunt-huerta.com           95.63\n",
      "10           ustewart@hotmail.com           96.89\n",
      "21             rsmith@hotmail.com           90.93\n",
      "23    ltaylor@gardner-meadows.com           97.97\n",
      "...                           ...             ...\n",
      "9934          popejames@yahoo.com           99.75\n",
      "9958       reynoldsrick@yahoo.com           99.86\n",
      "9960       zacharyward@daniel.net           91.28\n",
      "9967             gina95@gmail.com           98.42\n",
      "9977       daltoncarter@yahoo.com           94.93\n",
      "\n",
      "[1056 rows x 2 columns]\n",
      "Job\n",
      "Trade mark attorney                 73.802727\n",
      "Translator                          70.777647\n",
      "Investment analyst                  69.090000\n",
      "Accountant, chartered management    69.082667\n",
      "Designer, industrial/product        68.714667\n",
      "Name: Purchase Price, dtype: float64\n"
     ]
    }
   ],
   "source": [
    "# High-value customers\n",
    "high_value_customers = df[df['Purchase Price'] > 90][['Email', 'Purchase Price']]\n",
    "print(high_value_customers)\n",
    "\n",
    "# Top 5 job titles with high average purchase prices\n",
    "top_jobs = df.groupby('Job')['Purchase Price'].mean().sort_values(ascending=False).head(5)\n",
    "print(top_jobs)"
   ]
  },
  {
   "cell_type": "markdown",
   "id": "ec78b385",
   "metadata": {
    "execution": {
     "iopub.execute_input": "2024-12-20T19:16:00.984447Z",
     "iopub.status.busy": "2024-12-20T19:16:00.984055Z",
     "iopub.status.idle": "2024-12-20T19:16:00.988557Z",
     "shell.execute_reply": "2024-12-20T19:16:00.987394Z",
     "shell.execute_reply.started": "2024-12-20T19:16:00.984415Z"
    },
    "papermill": {
     "duration": 0.017819,
     "end_time": "2024-12-20T19:30:09.262709",
     "exception": false,
     "start_time": "2024-12-20T19:30:09.244890",
     "status": "completed"
    },
    "tags": []
   },
   "source": [
    "### **Potential Concepts to Explore Further**"
   ]
  },
  {
   "cell_type": "markdown",
   "id": "7ffd90e0",
   "metadata": {
    "papermill": {
     "duration": 0.017821,
     "end_time": "2024-12-20T19:30:09.298960",
     "exception": false,
     "start_time": "2024-12-20T19:30:09.281139",
     "status": "completed"
    },
    "tags": []
   },
   "source": [
    "### **1. Categorical Data Handling**\n",
    "Optimize memory and improve performance by converting columns to categorical types."
   ]
  },
  {
   "cell_type": "code",
   "execution_count": 28,
   "id": "eda046e2",
   "metadata": {
    "execution": {
     "iopub.execute_input": "2024-12-20T19:30:09.336103Z",
     "iopub.status.busy": "2024-12-20T19:30:09.335772Z",
     "iopub.status.idle": "2024-12-20T19:30:09.388657Z",
     "shell.execute_reply": "2024-12-20T19:30:09.387307Z"
    },
    "papermill": {
     "duration": 0.073641,
     "end_time": "2024-12-20T19:30:09.390378",
     "exception": false,
     "start_time": "2024-12-20T19:30:09.316737",
     "status": "completed"
    },
    "tags": []
   },
   "outputs": [
    {
     "name": "stdout",
     "output_type": "stream",
     "text": [
      "\n",
      "Memory Usage Before Conversion:\n",
      "Index                   128\n",
      "Address             1031846\n",
      "Lot                  620000\n",
      "AM or PM              10226\n",
      "Browser Info        1456553\n",
      "Company              734808\n",
      "Credit Card           80000\n",
      "CC Exp Date           80000\n",
      "CC Security Code      80000\n",
      "CC Provider          694118\n",
      "Email                789836\n",
      "Job                  778362\n",
      "IP Address           702791\n",
      "Language              10831\n",
      "Purchase Price        80000\n",
      "Email Provider       681509\n",
      "CC Exp Year           40000\n",
      "dtype: int64\n",
      "\n",
      "Memory Usage After Conversion:\n",
      "Index                   128\n",
      "Address             1031846\n",
      "Lot                  620000\n",
      "AM or PM              10226\n",
      "Browser Info        1456553\n",
      "Company              734808\n",
      "Credit Card           80000\n",
      "CC Exp Date           80000\n",
      "CC Security Code      80000\n",
      "CC Provider          694118\n",
      "Email                789836\n",
      "Job                  778362\n",
      "IP Address           702791\n",
      "Language              10831\n",
      "Purchase Price        80000\n",
      "Email Provider       681509\n",
      "CC Exp Year           40000\n",
      "dtype: int64\n"
     ]
    }
   ],
   "source": [
    "# Convert 'Language' and 'AM or PM' to categorical types\n",
    "df['Language'] = df['Language'].astype('category')\n",
    "df['AM or PM'] = df['AM or PM'].astype('category')\n",
    "\n",
    "# Display memory usage before and after conversion\n",
    "print(\"\\nMemory Usage Before Conversion:\")\n",
    "print(df.memory_usage(deep=True))\n",
    "\n",
    "df['Language'] = df['Language'].astype('category')\n",
    "df['AM or PM'] = df['AM or PM'].astype('category')\n",
    "\n",
    "print(\"\\nMemory Usage After Conversion:\")\n",
    "print(df.memory_usage(deep=True))"
   ]
  },
  {
   "cell_type": "markdown",
   "id": "999308af",
   "metadata": {
    "papermill": {
     "duration": 0.018052,
     "end_time": "2024-12-20T19:30:09.427524",
     "exception": false,
     "start_time": "2024-12-20T19:30:09.409472",
     "status": "completed"
    },
    "tags": []
   },
   "source": [
    "### **2. String Operations**\n",
    "Perform operations like extracting, replacing, and searching strings."
   ]
  },
  {
   "cell_type": "code",
   "execution_count": 29,
   "id": "b3820ea3",
   "metadata": {
    "execution": {
     "iopub.execute_input": "2024-12-20T19:30:09.465093Z",
     "iopub.status.busy": "2024-12-20T19:30:09.464767Z",
     "iopub.status.idle": "2024-12-20T19:30:09.510750Z",
     "shell.execute_reply": "2024-12-20T19:30:09.509449Z"
    },
    "papermill": {
     "duration": 0.066843,
     "end_time": "2024-12-20T19:30:09.512469",
     "exception": false,
     "start_time": "2024-12-20T19:30:09.445626",
     "status": "completed"
    },
    "tags": []
   },
   "outputs": [
    {
     "name": "stdout",
     "output_type": "stream",
     "text": [
      "\n",
      "Email Domains:\n",
      "Email Domain\n",
      "hotmail.com     1638\n",
      "yahoo.com       1616\n",
      "gmail.com       1605\n",
      "smith.com         42\n",
      "williams.com      37\n",
      "Name: count, dtype: int64\n",
      "\n",
      "Cleaned Job Titles:\n",
      "                                      Job  \\\n",
      "0  Scientist, product/process development   \n",
      "1                       Drilling engineer   \n",
      "2                Customer service manager   \n",
      "3                       Drilling engineer   \n",
      "4                             Fine artist   \n",
      "\n",
      "                              Job Cleaned  \n",
      "0  Scientist,_product/process_development  \n",
      "1                       Drilling_engineer  \n",
      "2                Customer_service_manager  \n",
      "3                       Drilling_engineer  \n",
      "4                             Fine_artist  \n",
      "\n",
      "Engineer Job Titles:\n",
      "                                    Job\n",
      "1                     Drilling engineer\n",
      "3                     Drilling engineer\n",
      "50                  Mechanical engineer\n",
      "55  Engineer, broadcasting (operations)\n",
      "60               Engineer, agricultural\n"
     ]
    }
   ],
   "source": [
    "# Extract domain names from email addresses\n",
    "df['Email Domain'] = df['Email'].str.split('@').str[1]\n",
    "print(\"\\nEmail Domains:\")\n",
    "print(df['Email Domain'].value_counts().head())\n",
    "\n",
    "# Replace spaces in job titles with underscores\n",
    "df['Job Cleaned'] = df['Job'].str.replace(' ', '_', regex=True)\n",
    "print(\"\\nCleaned Job Titles:\")\n",
    "print(df[['Job', 'Job Cleaned']].head())\n",
    "\n",
    "# Search for 'Engineer' in job titles\n",
    "engineer_jobs = df[df['Job'].str.contains('Engineer', case=False)]\n",
    "print(\"\\nEngineer Job Titles:\")\n",
    "print(engineer_jobs[['Job']].head())"
   ]
  },
  {
   "cell_type": "markdown",
   "id": "81d60c8e",
   "metadata": {
    "papermill": {
     "duration": 0.017903,
     "end_time": "2024-12-20T19:30:09.548837",
     "exception": false,
     "start_time": "2024-12-20T19:30:09.530934",
     "status": "completed"
    },
    "tags": []
   },
   "source": [
    "### **3. Rolling and Expanding Calculations**\n",
    "Apply rolling averages for analysis over a moving window."
   ]
  },
  {
   "cell_type": "code",
   "execution_count": 30,
   "id": "c7b86a76",
   "metadata": {
    "execution": {
     "iopub.execute_input": "2024-12-20T19:30:09.586404Z",
     "iopub.status.busy": "2024-12-20T19:30:09.585972Z",
     "iopub.status.idle": "2024-12-20T19:30:09.595025Z",
     "shell.execute_reply": "2024-12-20T19:30:09.594005Z"
    },
    "papermill": {
     "duration": 0.029606,
     "end_time": "2024-12-20T19:30:09.596558",
     "exception": false,
     "start_time": "2024-12-20T19:30:09.566952",
     "status": "completed"
    },
    "tags": []
   },
   "outputs": [
    {
     "name": "stdout",
     "output_type": "stream",
     "text": [
      "\n",
      "Rolling Average for Purchase Price:\n",
      "   Purchase Price  Rolling Avg Purchase\n",
      "0           98.14                   NaN\n",
      "1           70.73                   NaN\n",
      "2            0.95                   NaN\n",
      "3           78.04                   NaN\n",
      "4           77.82                65.136\n",
      "5           25.15                50.538\n",
      "6           88.56                54.104\n",
      "7           44.25                62.764\n",
      "8           59.54                59.064\n",
      "9           95.63                62.626\n"
     ]
    }
   ],
   "source": [
    "# Add a rolling average for Purchase Price (window=5)\n",
    "df['Rolling Avg Purchase'] = df['Purchase Price'].rolling(window=5).mean()\n",
    "print(\"\\nRolling Average for Purchase Price:\")\n",
    "print(df[['Purchase Price', 'Rolling Avg Purchase']].head(10))"
   ]
  },
  {
   "cell_type": "markdown",
   "id": "c81cb7ca",
   "metadata": {
    "papermill": {
     "duration": 0.018074,
     "end_time": "2024-12-20T19:30:09.632864",
     "exception": false,
     "start_time": "2024-12-20T19:30:09.614790",
     "status": "completed"
    },
    "tags": []
   },
   "source": [
    "### **4. Reshaping with Stack and Unstack**\n",
    "Transform data for hierarchical indexing."
   ]
  },
  {
   "cell_type": "code",
   "execution_count": 31,
   "id": "5a253d31",
   "metadata": {
    "execution": {
     "iopub.execute_input": "2024-12-20T19:30:09.670719Z",
     "iopub.status.busy": "2024-12-20T19:30:09.670368Z",
     "iopub.status.idle": "2024-12-20T19:30:09.799560Z",
     "shell.execute_reply": "2024-12-20T19:30:09.798475Z"
    },
    "papermill": {
     "duration": 0.150294,
     "end_time": "2024-12-20T19:30:09.801324",
     "exception": false,
     "start_time": "2024-12-20T19:30:09.651030",
     "status": "completed"
    },
    "tags": []
   },
   "outputs": [
    {
     "name": "stdout",
     "output_type": "stream",
     "text": [
      "\n",
      "Stacked Data:\n",
      "Language  CC Provider   Unique ID              \n",
      "el        JCB 16 digit  0          Address         16629 Pace Camp Apt. 448\\nAlexisborough, NE 77...\n",
      "                                   Lot                                                         46 in\n",
      "                                   AM or PM                                                       PM\n",
      "                                   Browser Info    Opera/9.56.(X11; Linux x86_64; sl-SI) Presto/2...\n",
      "                                   Company                                           Martinez-Herman\n",
      "dtype: object\n",
      "\n",
      "Unstacked Data:\n",
      "                                                                               Address  \\\n",
      "Language CC Provider      Unique ID                                                      \n",
      "de       American Express 250        531 Jonathan Keys Apt. 727\\nLeeshire, VT 32829...   \n",
      "                          280        81060 Dustin Causeway Apt. 503\\nPort Danielche...   \n",
      "                          348        900 Edwards Inlet Suite 795\\nPort James, UT 76634   \n",
      "                          479        4571 Forbes Prairie Suite 915\\nNorth Jesse, IN...   \n",
      "                          501        776 Hanson Land Suite 423\\nNew Samuel, DE 6035...   \n",
      "\n",
      "                                       Lot AM or PM  \\\n",
      "Language CC Provider      Unique ID                   \n",
      "de       American Express 250        06 Nu       PM   \n",
      "                          280        80 zh       PM   \n",
      "                          348        29 Mw       PM   \n",
      "                          479        76 VK       PM   \n",
      "                          501        22 Mb       AM   \n",
      "\n",
      "                                                                          Browser Info  \\\n",
      "Language CC Provider      Unique ID                                                      \n",
      "de       American Express 250        Mozilla/5.0 (compatible; MSIE 5.0; Windows NT ...   \n",
      "                          280        Mozilla/5.0 (Windows NT 5.01) AppleWebKit/5362...   \n",
      "                          348        Mozilla/5.0 (Macintosh; Intel Mac OS X 10_8_2;...   \n",
      "                          479        Mozilla/5.0 (X11; Linux x86_64) AppleWebKit/53...   \n",
      "                          501        Mozilla/5.0 (compatible; MSIE 5.0; Windows NT ...   \n",
      "\n",
      "                                                        Company  \\\n",
      "Language CC Provider      Unique ID                               \n",
      "de       American Express 250                       Blair Group   \n",
      "                          280                          Clay PLC   \n",
      "                          348                       Hall-Wilson   \n",
      "                          479        Adams, Sanchez and Huffman   \n",
      "                          501          Potts, Daniels and Lyons   \n",
      "\n",
      "                                          Credit Card          CC Exp Date  \\\n",
      "Language CC Provider      Unique ID                                          \n",
      "de       American Express 250        4787693467268895  2016-12-01 00:00:00   \n",
      "                          280         377737470673585  2017-10-01 00:00:00   \n",
      "                          348         180074171767988  2018-01-01 00:00:00   \n",
      "                          479         345690870181569  2024-10-01 00:00:00   \n",
      "                          501          30496707655050  2018-11-01 00:00:00   \n",
      "\n",
      "                                    CC Security Code  \\\n",
      "Language CC Provider      Unique ID                    \n",
      "de       American Express 250                    132   \n",
      "                          280                    349   \n",
      "                          348                   3158   \n",
      "                          479                    416   \n",
      "                          501                    276   \n",
      "\n",
      "                                                        Email  \\\n",
      "Language CC Provider      Unique ID                             \n",
      "de       American Express 250             dawnprice@gmail.com   \n",
      "                          280               hfarley@hicks.com   \n",
      "                          348               iwalker@yahoo.com   \n",
      "                          479            amcclure@hotmail.com   \n",
      "                          501        jacksoncynthia@yahoo.com   \n",
      "\n",
      "                                                          Job  \\\n",
      "Language CC Provider      Unique ID                             \n",
      "de       American Express 250        Customer service manager   \n",
      "                          280                      Ergonomist   \n",
      "                          348         Chartered loss adjuster   \n",
      "                          479               Medical physicist   \n",
      "                          501        Television floor manager   \n",
      "\n",
      "                                          IP Address Purchase Price  \\\n",
      "Language CC Provider      Unique ID                                   \n",
      "de       American Express 250          78.79.180.245          50.66   \n",
      "                          280          134.52.148.32          99.13   \n",
      "                          348           49.226.48.33           3.21   \n",
      "                          479        230.166.184.183          25.16   \n",
      "                          501           72.12.40.209          33.68   \n",
      "\n",
      "                                    Email Provider CC Exp Year Email Domain  \\\n",
      "Language CC Provider      Unique ID                                           \n",
      "de       American Express 250            gmail.com        2016    gmail.com   \n",
      "                          280            hicks.com        2017    hicks.com   \n",
      "                          348            yahoo.com        2018    yahoo.com   \n",
      "                          479          hotmail.com        2024  hotmail.com   \n",
      "                          501            yahoo.com        2018    yahoo.com   \n",
      "\n",
      "                                                  Job Cleaned  \\\n",
      "Language CC Provider      Unique ID                             \n",
      "de       American Express 250        Customer_service_manager   \n",
      "                          280                      Ergonomist   \n",
      "                          348         Chartered_loss_adjuster   \n",
      "                          479               Medical_physicist   \n",
      "                          501        Television_floor_manager   \n",
      "\n",
      "                                    Rolling Avg Purchase  \n",
      "Language CC Provider      Unique ID                       \n",
      "de       American Express 250                     34.772  \n",
      "                          280                     49.436  \n",
      "                          348                     40.806  \n",
      "                          479                     42.542  \n",
      "                          501                      32.65  \n"
     ]
    }
   ],
   "source": [
    "# Ensure the index is unique by adding a unique identifier if necessary\n",
    "df['Unique ID'] = range(len(df))\n",
    "\n",
    "# Set a unique multi-level index\n",
    "df_unique_index = df.set_index(['Language', 'CC Provider', 'Unique ID'])\n",
    "\n",
    "# Perform stacking\n",
    "stacked = df_unique_index.stack()\n",
    "print(\"\\nStacked Data:\")\n",
    "print(stacked.head())\n",
    "\n",
    "# Perform unstacking\n",
    "unstacked = stacked.unstack()\n",
    "print(\"\\nUnstacked Data:\")\n",
    "print(unstacked.head())"
   ]
  },
  {
   "cell_type": "markdown",
   "id": "d3163f4f",
   "metadata": {
    "papermill": {
     "duration": 0.018304,
     "end_time": "2024-12-20T19:30:09.838385",
     "exception": false,
     "start_time": "2024-12-20T19:30:09.820081",
     "status": "completed"
    },
    "tags": []
   },
   "source": [
    "### **5. Advanced Visualization Integration**\n",
    "Heatmap for average purchase price by language and AM/PM."
   ]
  },
  {
   "cell_type": "code",
   "execution_count": 32,
   "id": "ef0e8c73",
   "metadata": {
    "execution": {
     "iopub.execute_input": "2024-12-20T19:30:09.877817Z",
     "iopub.status.busy": "2024-12-20T19:30:09.877458Z",
     "iopub.status.idle": "2024-12-20T19:30:10.182058Z",
     "shell.execute_reply": "2024-12-20T19:30:10.180982Z"
    },
    "papermill": {
     "duration": 0.325883,
     "end_time": "2024-12-20T19:30:10.183951",
     "exception": false,
     "start_time": "2024-12-20T19:30:09.858068",
     "status": "completed"
    },
    "tags": []
   },
   "outputs": [
    {
     "data": {
      "image/png": "[encoded data removed]",
      "text/plain": [
       "<Figure size 800x600 with 2 Axes>"
      ]
     },
     "metadata": {},
     "output_type": "display_data"
    }
   ],
   "source": [
    "import seaborn as sns\n",
    "import matplotlib.pyplot as plt\n",
    "\n",
    "# Create pivot table\n",
    "pivot_table = df.pivot_table(\n",
    "    values='Purchase Price',\n",
    "    index='Language',\n",
    "    columns='AM or PM',\n",
    "    aggfunc='mean'\n",
    ")\n",
    "\n",
    "# Plot heatmap\n",
    "plt.figure(figsize=(8, 6))\n",
    "sns.heatmap(pivot_table, annot=True, fmt=\".2f\", cmap=\"coolwarm\")\n",
    "plt.title(\"Average Purchase Price by Language and AM/PM\")\n",
    "plt.show()"
   ]
  },
  {
   "cell_type": "markdown",
   "id": "c4747b9a",
   "metadata": {
    "papermill": {
     "duration": 0.019254,
     "end_time": "2024-12-20T19:30:10.223314",
     "exception": false,
     "start_time": "2024-12-20T19:30:10.204060",
     "status": "completed"
    },
    "tags": []
   },
   "source": [
    "### **6. Working with JSON or SQL**\n",
    "Load data from JSON and write SQL queries."
   ]
  },
  {
   "cell_type": "code",
   "execution_count": 33,
   "id": "f9739b27",
   "metadata": {
    "execution": {
     "iopub.execute_input": "2024-12-20T19:30:10.263065Z",
     "iopub.status.busy": "2024-12-20T19:30:10.262738Z",
     "iopub.status.idle": "2024-12-20T19:30:10.295376Z",
     "shell.execute_reply": "2024-12-20T19:30:10.293971Z"
    },
    "papermill": {
     "duration": 0.054319,
     "end_time": "2024-12-20T19:30:10.297032",
     "exception": false,
     "start_time": "2024-12-20T19:30:10.242713",
     "status": "completed"
    },
    "tags": []
   },
   "outputs": [
    {
     "name": "stdout",
     "output_type": "stream",
     "text": [
      "\n",
      "Merged Dataset with JSON Data:\n",
      "                                             Address    Lot AM or PM  \\\n",
      "0  16629 Pace Camp Apt. 448\\nAlexisborough, NE 77...  46 in       PM   \n",
      "1  9374 Jasmine Spurs Suite 508\\nSouth John, TN 8...  28 rn       PM   \n",
      "2                   Unit 0065 Box 5052\\nDPO AP 27450  94 vE       PM   \n",
      "3              7780 Julia Fords\\nNew Stacy, WA 45798  36 vm       PM   \n",
      "4  23012 Munoz Drive Suite 337\\nNew Cynthia, TX 5...  20 IE       AM   \n",
      "\n",
      "                                        Browser Info  \\\n",
      "0  Opera/9.56.(X11; Linux x86_64; sl-SI) Presto/2...   \n",
      "1  Opera/8.93.(Windows 98; Win 9x 4.90; en-US) Pr...   \n",
      "2  Mozilla/5.0 (compatible; MSIE 9.0; Windows NT ...   \n",
      "3  Mozilla/5.0 (Macintosh; Intel Mac OS X 10_8_0 ...   \n",
      "4  Opera/9.58.(X11; Linux x86_64; it-IT) Presto/2...   \n",
      "\n",
      "                           Company       Credit Card CC Exp Date  \\\n",
      "0                  Martinez-Herman  6011929061123406  2020-02-01   \n",
      "1  Fletcher, Richards and Whitaker  3337758169645356  2018-11-01   \n",
      "2       Simpson, Williams and Pham      675957666125  2019-08-01   \n",
      "3  Williams, Marshall and Buchanan  6011578504430710  2024-02-01   \n",
      "4        Brown, Watson and Andrews  6011456623207998  2025-10-01   \n",
      "\n",
      "   CC Security Code                  CC Provider  \\\n",
      "0               900                 JCB 16 digit   \n",
      "1               561                   Mastercard   \n",
      "2               699                 JCB 16 digit   \n",
      "3               384                     Discover   \n",
      "4               678  Diners Club / Carte Blanche   \n",
      "\n",
      "                            Email  ... Language Purchase Price  \\\n",
      "0               pdunlap@yahoo.com  ...       el          98.14   \n",
      "1              anthony41@reed.com  ...       fr          70.73   \n",
      "2  amymiller@morales-harrison.com  ...       de           0.95   \n",
      "3     brent16@olson-robinson.info  ...       es          78.04   \n",
      "4     christopherwright@gmail.com  ...       es          77.82   \n",
      "\n",
      "         Email Provider  CC Exp Year          Email Domain  \\\n",
      "0             yahoo.com         2020             yahoo.com   \n",
      "1              reed.com         2018              reed.com   \n",
      "2  morales-harrison.com         2019  morales-harrison.com   \n",
      "3   olson-robinson.info         2024   olson-robinson.info   \n",
      "4             gmail.com         2025             gmail.com   \n",
      "\n",
      "                              Job Cleaned Rolling Avg Purchase Unique ID  \\\n",
      "0  Scientist,_product/process_development                  NaN         0   \n",
      "1                       Drilling_engineer                  NaN         1   \n",
      "2                Customer_service_manager                  NaN         2   \n",
      "3                       Drilling_engineer                  NaN         3   \n",
      "4                             Fine_artist               65.136         4   \n",
      "\n",
      "    Age  Gender  \n",
      "0  34.0  Female  \n",
      "1  29.0    Male  \n",
      "2   NaN     NaN  \n",
      "3   NaN     NaN  \n",
      "4   NaN     NaN  \n",
      "\n",
      "[5 rows x 22 columns]\n"
     ]
    },
    {
     "name": "stderr",
     "output_type": "stream",
     "text": [
      "<ipython-input-33-b504bf7cd356>:9: FutureWarning: Passing literal json to 'read_json' is deprecated and will be removed in a future version. To read from a literal string, wrap it in a 'StringIO' object.\n",
      "  demographics_json = pd.read_json(json_data)\n"
     ]
    }
   ],
   "source": [
    "# Load JSON example (hypothetical)\n",
    "json_data = '''\n",
    "[\n",
    "    {\"Email\": \"pdunlap@yahoo.com\", \"Age\": 34, \"Gender\": \"Female\"},\n",
    "    {\"Email\": \"anthony41@reed.com\", \"Age\": 29, \"Gender\": \"Male\"}\n",
    "]\n",
    "'''\n",
    "import json\n",
    "demographics_json = pd.read_json(json_data)\n",
    "\n",
    "# Merge with the dataset\n",
    "merged_df = pd.merge(df, demographics_json, on='Email', how='left')\n",
    "print(\"\\nMerged Dataset with JSON Data:\")\n",
    "print(merged_df.head())"
   ]
  },
  {
   "cell_type": "markdown",
   "id": "c9d26534",
   "metadata": {
    "papermill": {
     "duration": 0.019564,
     "end_time": "2024-12-20T19:30:10.336647",
     "exception": false,
     "start_time": "2024-12-20T19:30:10.317083",
     "status": "completed"
    },
    "tags": []
   },
   "source": [
    "### **7. Data Sampling**\n",
    "Randomly sample rows for quick exploration or testing."
   ]
  },
  {
   "cell_type": "code",
   "execution_count": 34,
   "id": "1b06f83f",
   "metadata": {
    "execution": {
     "iopub.execute_input": "2024-12-20T19:30:10.377582Z",
     "iopub.status.busy": "2024-12-20T19:30:10.377161Z",
     "iopub.status.idle": "2024-12-20T19:30:10.392622Z",
     "shell.execute_reply": "2024-12-20T19:30:10.391505Z"
    },
    "papermill": {
     "duration": 0.037746,
     "end_time": "2024-12-20T19:30:10.394304",
     "exception": false,
     "start_time": "2024-12-20T19:30:10.356558",
     "status": "completed"
    },
    "tags": []
   },
   "outputs": [
    {
     "name": "stdout",
     "output_type": "stream",
     "text": [
      "\n",
      "Randomly Sampled Rows:\n",
      "                                                Address    Lot AM or PM  \\\n",
      "6055  4718 Stevens Ferry Suite 421\\nEast Vanessa, SC...  61 Ug       AM   \n",
      "5298     10356 Crystal Mission\\nErikport, ND 58170-5928  19 tc       PM   \n",
      "4031   259 Rojas Rapid\\nWest Christophermouth, UT 58378  43 Ky       PM   \n",
      "8835            945 Woods Crescent\\nWest Joel, NJ 39419  82 uj       PM   \n",
      "5481            9217 Bruce Light\\nWilliamside, MI 29676  30 js       AM   \n",
      "\n",
      "                                           Browser Info  \\\n",
      "6055  Opera/8.89.(Windows NT 6.0; sl-SI) Presto/2.9....   \n",
      "5298  Opera/9.35.(X11; Linux x86_64; sl-SI) Presto/2...   \n",
      "4031  Mozilla/5.0 (Macintosh; U; Intel Mac OS X 10_6...   \n",
      "8835  Mozilla/5.0 (Windows; U; Windows NT 6.0) Apple...   \n",
      "5481  Opera/8.81.(X11; Linux x86_64; it-IT) Presto/2...   \n",
      "\n",
      "                          Company       Credit Card CC Exp Date  \\\n",
      "6055                    Lewis PLC  3528271825745767  2017-12-01   \n",
      "5298                 Boyd-Simmons  3096131532591502  2020-12-01   \n",
      "4031        Bruce, Dunn and Glenn  3112233785572120  2025-05-01   \n",
      "8835  Boone, Caldwell and Jenkins   376653451452934  2018-11-01   \n",
      "5481      Wright, Macias and Ruiz  3088466430056376  2019-12-01   \n",
      "\n",
      "      CC Security Code                  CC Provider  \\\n",
      "6055               578                VISA 13 digit   \n",
      "5298                63                VISA 13 digit   \n",
      "4031              1143                      Maestro   \n",
      "8835               178                VISA 13 digit   \n",
      "5481              2220  Diners Club / Carte Blanche   \n",
      "\n",
      "                           Email                          Job  \\\n",
      "6055      tammytaylor@ortega.com       Primary school teacher   \n",
      "5298  griffinkristin@hotmail.com  Civil Service administrator   \n",
      "4031       gcompton@martinez.biz         Designer, multimedia   \n",
      "8835             mhale@green.net          Designer, jewellery   \n",
      "5481         wendy96@herrera.com                      Curator   \n",
      "\n",
      "           IP Address Language  Purchase Price Email Provider  CC Exp Year  \\\n",
      "6055   131.40.137.114       ru           53.96     ortega.com         2017   \n",
      "5298  250.229.235.230       el           93.94    hotmail.com         2020   \n",
      "4031    49.211.22.112       el           94.43   martinez.biz         2025   \n",
      "8835     63.6.128.234       de           82.60      green.net         2018   \n",
      "5481  162.143.218.214       de           56.63    herrera.com         2019   \n",
      "\n",
      "      Email Domain                  Job Cleaned  Rolling Avg Purchase  \\\n",
      "6055    ortega.com       Primary_school_teacher                63.746   \n",
      "5298   hotmail.com  Civil_Service_administrator                44.450   \n",
      "4031  martinez.biz         Designer,_multimedia                46.282   \n",
      "8835     green.net          Designer,_jewellery                50.402   \n",
      "5481   herrera.com                      Curator                65.086   \n",
      "\n",
      "      Unique ID  \n",
      "6055       6055  \n",
      "5298       5298  \n",
      "4031       4031  \n",
      "8835       8835  \n",
      "5481       5481  \n"
     ]
    }
   ],
   "source": [
    "# Randomly sample 5 rows from the dataset\n",
    "sample_df = df.sample(n=5)\n",
    "print(\"\\nRandomly Sampled Rows:\")\n",
    "print(sample_df)"
   ]
  },
  {
   "cell_type": "markdown",
   "id": "f1ac7562",
   "metadata": {
    "papermill": {
     "duration": 0.019685,
     "end_time": "2024-12-20T19:30:10.434426",
     "exception": false,
     "start_time": "2024-12-20T19:30:10.414741",
     "status": "completed"
    },
    "tags": []
   },
   "source": [
    "### **8. Automating Reports**\n",
    "Save analysis outputs to files."
   ]
  },
  {
   "cell_type": "code",
   "execution_count": 35,
   "id": "82dfcffb",
   "metadata": {
    "execution": {
     "iopub.execute_input": "2024-12-20T19:30:10.475378Z",
     "iopub.status.busy": "2024-12-20T19:30:10.474983Z",
     "iopub.status.idle": "2024-12-20T19:30:10.497629Z",
     "shell.execute_reply": "2024-12-20T19:30:10.496456Z"
    },
    "papermill": {
     "duration": 0.044945,
     "end_time": "2024-12-20T19:30:10.499100",
     "exception": false,
     "start_time": "2024-12-20T19:30:10.454155",
     "status": "completed"
    },
    "tags": []
   },
   "outputs": [
    {
     "name": "stdout",
     "output_type": "stream",
     "text": [
      "\n",
      "Summary statistics saved to 'Summary_Report.csv'\n"
     ]
    }
   ],
   "source": [
    "# Save summary statistics to a CSV file\n",
    "summary = df.describe()\n",
    "summary.to_csv('Summary_Report.csv')\n",
    "\n",
    "print(\"\\nSummary statistics saved to 'Summary_Report.csv'\")"
   ]
  },
  {
   "cell_type": "markdown",
   "id": "62b0f516",
   "metadata": {
    "papermill": {
     "duration": 0.019485,
     "end_time": "2024-12-20T19:30:10.538894",
     "exception": false,
     "start_time": "2024-12-20T19:30:10.519409",
     "status": "completed"
    },
    "tags": []
   },
   "source": [
    "### **9. Application-Oriented Analysis**\n",
    "Identify high-value customers and top job titles."
   ]
  },
  {
   "cell_type": "code",
   "execution_count": 36,
   "id": "f9425f7d",
   "metadata": {
    "execution": {
     "iopub.execute_input": "2024-12-20T19:30:10.579557Z",
     "iopub.status.busy": "2024-12-20T19:30:10.579220Z",
     "iopub.status.idle": "2024-12-20T19:30:10.593897Z",
     "shell.execute_reply": "2024-12-20T19:30:10.592731Z"
    },
    "papermill": {
     "duration": 0.036902,
     "end_time": "2024-12-20T19:30:10.595521",
     "exception": false,
     "start_time": "2024-12-20T19:30:10.558619",
     "status": "completed"
    },
    "tags": []
   },
   "outputs": [
    {
     "name": "stdout",
     "output_type": "stream",
     "text": [
      "\n",
      "High-Value Customers:\n",
      "                          Email  Purchase Price\n",
      "0             pdunlap@yahoo.com           98.14\n",
      "9      qcoleman@hunt-huerta.com           95.63\n",
      "10         ustewart@hotmail.com           96.89\n",
      "21           rsmith@hotmail.com           90.93\n",
      "23  ltaylor@gardner-meadows.com           97.97\n",
      "\n",
      "Top Job Titles with High Purchase Prices:\n",
      "Job\n",
      "Trade mark attorney                 73.802727\n",
      "Translator                          70.777647\n",
      "Investment analyst                  69.090000\n",
      "Accountant, chartered management    69.082667\n",
      "Designer, industrial/product        68.714667\n",
      "Name: Purchase Price, dtype: float64\n"
     ]
    }
   ],
   "source": [
    "# Identify high-value customers (Purchase Price > 90)\n",
    "high_value_customers = df[df['Purchase Price'] > 90][['Email', 'Purchase Price']]\n",
    "print(\"\\nHigh-Value Customers:\")\n",
    "print(high_value_customers.head())\n",
    "\n",
    "# Top 5 job titles with high average purchase prices\n",
    "top_jobs = df.groupby('Job')['Purchase Price'].mean().sort_values(ascending=False).head(5)\n",
    "print(\"\\nTop Job Titles with High Purchase Prices:\")\n",
    "print(top_jobs)"
   ]
  },
  {
   "cell_type": "markdown",
   "id": "b84f9200",
   "metadata": {
    "papermill": {
     "duration": 0.019509,
     "end_time": "2024-12-20T19:30:10.635556",
     "exception": false,
     "start_time": "2024-12-20T19:30:10.616047",
     "status": "completed"
    },
    "tags": []
   },
   "source": [
    "### **10. Performance Optimization**\n",
    "Chunk-based processing for large datasets."
   ]
  },
  {
   "cell_type": "code",
   "execution_count": 37,
   "id": "62d140e6",
   "metadata": {
    "execution": {
     "iopub.execute_input": "2024-12-20T19:30:10.676266Z",
     "iopub.status.busy": "2024-12-20T19:30:10.675877Z",
     "iopub.status.idle": "2024-12-20T19:30:10.763040Z",
     "shell.execute_reply": "2024-12-20T19:30:10.761929Z"
    },
    "papermill": {
     "duration": 0.109666,
     "end_time": "2024-12-20T19:30:10.764976",
     "exception": false,
     "start_time": "2024-12-20T19:30:10.655310",
     "status": "completed"
    },
    "tags": []
   },
   "outputs": [
    {
     "name": "stdout",
     "output_type": "stream",
     "text": [
      "\n",
      "Average Purchase Price in Chunk:\n",
      "49.65643\n",
      "\n",
      "Average Purchase Price in Chunk:\n",
      "51.186589999999995\n",
      "\n",
      "Average Purchase Price in Chunk:\n",
      "49.70272\n",
      "\n",
      "Average Purchase Price in Chunk:\n",
      "50.40256\n",
      "\n",
      "Average Purchase Price in Chunk:\n",
      "49.39354\n",
      "\n",
      "Average Purchase Price in Chunk:\n",
      "51.43860000000001\n",
      "\n",
      "Average Purchase Price in Chunk:\n",
      "50.2707\n",
      "\n",
      "Average Purchase Price in Chunk:\n",
      "51.606379999999994\n",
      "\n",
      "Average Purchase Price in Chunk:\n",
      "49.26314\n",
      "\n",
      "Average Purchase Price in Chunk:\n",
      "50.55236\n"
     ]
    }
   ],
   "source": [
    "# Example of processing large dataset in chunks\n",
    "chunksize = 1000\n",
    "file_path = '/kaggle/input/ecommerce-purchases/Ecommerce Purchases' \n",
    "\n",
    "for chunk in pd.read_csv(file_path, chunksize=chunksize):\n",
    "    print(\"\\nAverage Purchase Price in Chunk:\")\n",
    "    print(chunk['Purchase Price'].mean())"
   ]
  },
  {
   "cell_type": "markdown",
   "id": "7fac7cae",
   "metadata": {
    "papermill": {
     "duration": 0.019954,
     "end_time": "2024-12-20T19:30:10.805436",
     "exception": false,
     "start_time": "2024-12-20T19:30:10.785482",
     "status": "completed"
    },
    "tags": []
   },
   "source": [
    "### Conclusion\n",
    "\n",
    "This project demonstrated the comprehensive capabilities of pandas through the exploration of an E-Commerce Purchases dataset. From fundamental data loading and cleaning to advanced analysis and visualization, we covered a broad spectrum of concepts, including:\n",
    "\n",
    "1. **Data Exploration and Cleaning:**\n",
    "   - Successfully inspected the dataset for missing values, duplicates, and inconsistencies.\n",
    "   - Validated data types and ensured the dataset was ready for analysis.\n",
    "\n",
    "2. **Data Manipulation:**\n",
    "   - Performed operations like indexing, filtering, grouping, merging, and reshaping.\n",
    "   - Demonstrated efficient handling of real-world datasets with large volumes of data.\n",
    "\n",
    "3. **Data Analysis:**\n",
    "   - Generated actionable insights such as identifying high-value customers and analyzing job titles contributing to significant purchases.\n",
    "   - Aggregated and summarized data by categorical variables like language, purchase time, and credit card provider.\n",
    "\n",
    "4. **Visualization:**\n",
    "   - Enhanced data understanding with visualizations such as bar charts, pie charts, histograms, line charts, and heatmaps.\n",
    "\n",
    "5. **Advanced Techniques:**\n",
    "   - Explored hierarchical indexing, pivot tables, time-series analysis, and chunk-based processing for larger datasets.\n",
    "   - Optimized performance through categorical data conversion and vectorized operations.\n",
    "\n",
    "6. **Actionable Insights:**\n",
    "   - Identified trends in credit card expirations.\n",
    "   - Highlighted the most popular email providers and key customer demographics.\n",
    "\n",
    "### Key Takeaways\n",
    "- **Efficiency:** Pandas enables efficient and intuitive manipulation of structured data, handling even complex operations with ease.\n",
    "- **Scalability:** By leveraging chunk-based processing and memory optimization, pandas can manage large datasets effectively.\n",
    "- **Insights-Driven:** The tools and techniques showcased here can be directly applied to solve business problems and drive data-driven decision-making.\n"
   ]
  }
 ],
 "metadata": {
  "kaggle": {
   "accelerator": "none",
   "dataSources": [
    {
     "datasetId": 471206,
     "sourceId": 883225,
     "sourceType": "datasetVersion"
    }
   ],
   "dockerImageVersionId": 30822,
   "isGpuEnabled": false,
   "isInternetEnabled": true,
   "language": "python",
   "sourceType": "notebook"
  },
  "kernelspec": {
   "display_name": "Python 3",
   "language": "python",
   "name": "python3"
  },
  "language_info": {
   "codemirror_mode": {
    "name": "ipython",
    "version": 3
   },
   "file_extension": ".py",
   "mimetype": "text/x-python",
   "name": "python",
   "nbconvert_exporter": "python",
   "pygments_lexer": "ipython3",
   "version": "3.10.12"
  },
  "papermill": {
   "default_parameters": {},
   "duration": 14.769259,
   "end_time": "2024-12-20T19:30:11.545163",
   "environment_variables": {},
   "exception": null,
   "input_path": "__notebook__.ipynb",
   "output_path": "__notebook__.ipynb",
   "parameters": {},
   "start_time": "2024-12-20T19:29:56.775904",
   "version": "2.6.0"
  }
 },
 "nbformat": 4,
 "nbformat_minor": 5
}
